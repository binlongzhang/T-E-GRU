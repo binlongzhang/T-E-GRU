{
 "cells": [
  {
   "cell_type": "code",
   "execution_count": 21,
   "id": "conscious-simon",
   "metadata": {},
   "outputs": [],
   "source": [
    "import pandas as pd"
   ]
  },
  {
   "cell_type": "code",
   "execution_count": 22,
   "id": "measured-walnut",
   "metadata": {},
   "outputs": [
    {
     "data": {
      "text/html": [
       "<div>\n",
       "<style scoped>\n",
       "    .dataframe tbody tr th:only-of-type {\n",
       "        vertical-align: middle;\n",
       "    }\n",
       "\n",
       "    .dataframe tbody tr th {\n",
       "        vertical-align: top;\n",
       "    }\n",
       "\n",
       "    .dataframe thead th {\n",
       "        text-align: right;\n",
       "    }\n",
       "</style>\n",
       "<table border=\"1\" class=\"dataframe\">\n",
       "  <thead>\n",
       "    <tr style=\"text-align: right;\">\n",
       "      <th></th>\n",
       "      <th>review</th>\n",
       "      <th>sentiment</th>\n",
       "    </tr>\n",
       "  </thead>\n",
       "  <tbody>\n",
       "    <tr>\n",
       "      <th>0</th>\n",
       "      <td>One of the other reviewers has mentioned that ...</td>\n",
       "      <td>positive</td>\n",
       "    </tr>\n",
       "    <tr>\n",
       "      <th>1</th>\n",
       "      <td>A wonderful little production. &lt;br /&gt;&lt;br /&gt;The...</td>\n",
       "      <td>positive</td>\n",
       "    </tr>\n",
       "    <tr>\n",
       "      <th>2</th>\n",
       "      <td>I thought this was a wonderful way to spend ti...</td>\n",
       "      <td>positive</td>\n",
       "    </tr>\n",
       "    <tr>\n",
       "      <th>3</th>\n",
       "      <td>Basically there's a family where a little boy ...</td>\n",
       "      <td>negative</td>\n",
       "    </tr>\n",
       "    <tr>\n",
       "      <th>4</th>\n",
       "      <td>Petter Mattei's \"Love in the Time of Money\" is...</td>\n",
       "      <td>positive</td>\n",
       "    </tr>\n",
       "    <tr>\n",
       "      <th>...</th>\n",
       "      <td>...</td>\n",
       "      <td>...</td>\n",
       "    </tr>\n",
       "    <tr>\n",
       "      <th>49995</th>\n",
       "      <td>I thought this movie did a down right good job...</td>\n",
       "      <td>positive</td>\n",
       "    </tr>\n",
       "    <tr>\n",
       "      <th>49996</th>\n",
       "      <td>Bad plot, bad dialogue, bad acting, idiotic di...</td>\n",
       "      <td>negative</td>\n",
       "    </tr>\n",
       "    <tr>\n",
       "      <th>49997</th>\n",
       "      <td>I am a Catholic taught in parochial elementary...</td>\n",
       "      <td>negative</td>\n",
       "    </tr>\n",
       "    <tr>\n",
       "      <th>49998</th>\n",
       "      <td>I'm going to have to disagree with the previou...</td>\n",
       "      <td>negative</td>\n",
       "    </tr>\n",
       "    <tr>\n",
       "      <th>49999</th>\n",
       "      <td>No one expects the Star Trek movies to be high...</td>\n",
       "      <td>negative</td>\n",
       "    </tr>\n",
       "  </tbody>\n",
       "</table>\n",
       "<p>50000 rows × 2 columns</p>\n",
       "</div>"
      ],
      "text/plain": [
       "                                                  review sentiment\n",
       "0      One of the other reviewers has mentioned that ...  positive\n",
       "1      A wonderful little production. <br /><br />The...  positive\n",
       "2      I thought this was a wonderful way to spend ti...  positive\n",
       "3      Basically there's a family where a little boy ...  negative\n",
       "4      Petter Mattei's \"Love in the Time of Money\" is...  positive\n",
       "...                                                  ...       ...\n",
       "49995  I thought this movie did a down right good job...  positive\n",
       "49996  Bad plot, bad dialogue, bad acting, idiotic di...  negative\n",
       "49997  I am a Catholic taught in parochial elementary...  negative\n",
       "49998  I'm going to have to disagree with the previou...  negative\n",
       "49999  No one expects the Star Trek movies to be high...  negative\n",
       "\n",
       "[50000 rows x 2 columns]"
      ]
     },
     "execution_count": 22,
     "metadata": {},
     "output_type": "execute_result"
    }
   ],
   "source": [
    "df = pd.read_csv('../data/IMDB/IMDB_Dataset.csv')\n",
    "\n",
    "df"
   ]
  },
  {
   "cell_type": "markdown",
   "id": "stretch-bobby",
   "metadata": {},
   "source": [
    "# 制作数据集"
   ]
  },
  {
   "cell_type": "code",
   "execution_count": 23,
   "id": "wanted-cookbook",
   "metadata": {},
   "outputs": [
    {
     "data": {
      "text/html": [
       "<div>\n",
       "<style scoped>\n",
       "    .dataframe tbody tr th:only-of-type {\n",
       "        vertical-align: middle;\n",
       "    }\n",
       "\n",
       "    .dataframe tbody tr th {\n",
       "        vertical-align: top;\n",
       "    }\n",
       "\n",
       "    .dataframe thead th {\n",
       "        text-align: right;\n",
       "    }\n",
       "</style>\n",
       "<table border=\"1\" class=\"dataframe\">\n",
       "  <thead>\n",
       "    <tr style=\"text-align: right;\">\n",
       "      <th></th>\n",
       "      <th>review</th>\n",
       "      <th>rating</th>\n",
       "    </tr>\n",
       "  </thead>\n",
       "  <tbody>\n",
       "    <tr>\n",
       "      <th>3507</th>\n",
       "      <td>Well, this is new...Famous Italian horror dire...</td>\n",
       "      <td>1</td>\n",
       "    </tr>\n",
       "    <tr>\n",
       "      <th>13399</th>\n",
       "      <td>In \"Die Nibelungen: Siegfried\", Siegfried was ...</td>\n",
       "      <td>1</td>\n",
       "    </tr>\n",
       "    <tr>\n",
       "      <th>21868</th>\n",
       "      <td>\"Sharky's Machine\" is clearly a Burt Reynolds ...</td>\n",
       "      <td>1</td>\n",
       "    </tr>\n",
       "    <tr>\n",
       "      <th>11586</th>\n",
       "      <td>As winter approaches, our state-owned broadcas...</td>\n",
       "      <td>1</td>\n",
       "    </tr>\n",
       "    <tr>\n",
       "      <th>14395</th>\n",
       "      <td>Perhaps the best movie ever made by director K...</td>\n",
       "      <td>1</td>\n",
       "    </tr>\n",
       "    <tr>\n",
       "      <th>...</th>\n",
       "      <td>...</td>\n",
       "      <td>...</td>\n",
       "    </tr>\n",
       "    <tr>\n",
       "      <th>15052</th>\n",
       "      <td>I saw this movie being a Jane Austen addicted ...</td>\n",
       "      <td>1</td>\n",
       "    </tr>\n",
       "    <tr>\n",
       "      <th>34174</th>\n",
       "      <td>Gulliver's Travels is, at the beginning, a sat...</td>\n",
       "      <td>1</td>\n",
       "    </tr>\n",
       "    <tr>\n",
       "      <th>6951</th>\n",
       "      <td>Track Listing: 1. Spiderbait - Outta My Head 2...</td>\n",
       "      <td>1</td>\n",
       "    </tr>\n",
       "    <tr>\n",
       "      <th>25975</th>\n",
       "      <td>If it had been made 2 years later it would hav...</td>\n",
       "      <td>1</td>\n",
       "    </tr>\n",
       "    <tr>\n",
       "      <th>20192</th>\n",
       "      <td>I watched The Babysitter as part of BCI Eclips...</td>\n",
       "      <td>1</td>\n",
       "    </tr>\n",
       "  </tbody>\n",
       "</table>\n",
       "<p>25000 rows × 2 columns</p>\n",
       "</div>"
      ],
      "text/plain": [
       "                                                  review  rating\n",
       "3507   Well, this is new...Famous Italian horror dire...       1\n",
       "13399  In \"Die Nibelungen: Siegfried\", Siegfried was ...       1\n",
       "21868  \"Sharky's Machine\" is clearly a Burt Reynolds ...       1\n",
       "11586  As winter approaches, our state-owned broadcas...       1\n",
       "14395  Perhaps the best movie ever made by director K...       1\n",
       "...                                                  ...     ...\n",
       "15052  I saw this movie being a Jane Austen addicted ...       1\n",
       "34174  Gulliver's Travels is, at the beginning, a sat...       1\n",
       "6951   Track Listing: 1. Spiderbait - Outta My Head 2...       1\n",
       "25975  If it had been made 2 years later it would hav...       1\n",
       "20192  I watched The Babysitter as part of BCI Eclips...       1\n",
       "\n",
       "[25000 rows x 2 columns]"
      ]
     },
     "execution_count": 23,
     "metadata": {},
     "output_type": "execute_result"
    }
   ],
   "source": [
    "pos = df[df['sentiment']=='positive'].sample(frac=1.0).drop(columns=['sentiment'])\n",
    "pos['rating'] = 1\n",
    "pos"
   ]
  },
  {
   "cell_type": "code",
   "execution_count": 24,
   "id": "sufficient-deadline",
   "metadata": {},
   "outputs": [
    {
     "data": {
      "text/html": [
       "<div>\n",
       "<style scoped>\n",
       "    .dataframe tbody tr th:only-of-type {\n",
       "        vertical-align: middle;\n",
       "    }\n",
       "\n",
       "    .dataframe tbody tr th {\n",
       "        vertical-align: top;\n",
       "    }\n",
       "\n",
       "    .dataframe thead th {\n",
       "        text-align: right;\n",
       "    }\n",
       "</style>\n",
       "<table border=\"1\" class=\"dataframe\">\n",
       "  <thead>\n",
       "    <tr style=\"text-align: right;\">\n",
       "      <th></th>\n",
       "      <th>review</th>\n",
       "      <th>rating</th>\n",
       "    </tr>\n",
       "  </thead>\n",
       "  <tbody>\n",
       "    <tr>\n",
       "      <th>33324</th>\n",
       "      <td>I still haven't gotten to see all of this; it'...</td>\n",
       "      <td>0</td>\n",
       "    </tr>\n",
       "    <tr>\n",
       "      <th>135</th>\n",
       "      <td>This film could have been a decent re-make, an...</td>\n",
       "      <td>0</td>\n",
       "    </tr>\n",
       "    <tr>\n",
       "      <th>16052</th>\n",
       "      <td>OK..this movie could have been soooo good! All...</td>\n",
       "      <td>0</td>\n",
       "    </tr>\n",
       "    <tr>\n",
       "      <th>41110</th>\n",
       "      <td>Ram Gopal Verma has proved himself as a very i...</td>\n",
       "      <td>0</td>\n",
       "    </tr>\n",
       "    <tr>\n",
       "      <th>31916</th>\n",
       "      <td>I give it a 2 - I reserve a 1 rating for Guy R...</td>\n",
       "      <td>0</td>\n",
       "    </tr>\n",
       "    <tr>\n",
       "      <th>...</th>\n",
       "      <td>...</td>\n",
       "      <td>...</td>\n",
       "    </tr>\n",
       "    <tr>\n",
       "      <th>17952</th>\n",
       "      <td>Only three words are really required for this ...</td>\n",
       "      <td>0</td>\n",
       "    </tr>\n",
       "    <tr>\n",
       "      <th>26372</th>\n",
       "      <td>This movie was a disappointment. I was looking...</td>\n",
       "      <td>0</td>\n",
       "    </tr>\n",
       "    <tr>\n",
       "      <th>9523</th>\n",
       "      <td>While studying the differences between religio...</td>\n",
       "      <td>0</td>\n",
       "    </tr>\n",
       "    <tr>\n",
       "      <th>25839</th>\n",
       "      <td>Fairly appalling enterprise suggests Welsh to ...</td>\n",
       "      <td>0</td>\n",
       "    </tr>\n",
       "    <tr>\n",
       "      <th>17089</th>\n",
       "      <td>I went in not knowing anything about this movi...</td>\n",
       "      <td>0</td>\n",
       "    </tr>\n",
       "  </tbody>\n",
       "</table>\n",
       "<p>25000 rows × 2 columns</p>\n",
       "</div>"
      ],
      "text/plain": [
       "                                                  review  rating\n",
       "33324  I still haven't gotten to see all of this; it'...       0\n",
       "135    This film could have been a decent re-make, an...       0\n",
       "16052  OK..this movie could have been soooo good! All...       0\n",
       "41110  Ram Gopal Verma has proved himself as a very i...       0\n",
       "31916  I give it a 2 - I reserve a 1 rating for Guy R...       0\n",
       "...                                                  ...     ...\n",
       "17952  Only three words are really required for this ...       0\n",
       "26372  This movie was a disappointment. I was looking...       0\n",
       "9523   While studying the differences between religio...       0\n",
       "25839  Fairly appalling enterprise suggests Welsh to ...       0\n",
       "17089  I went in not knowing anything about this movi...       0\n",
       "\n",
       "[25000 rows x 2 columns]"
      ]
     },
     "execution_count": 24,
     "metadata": {},
     "output_type": "execute_result"
    }
   ],
   "source": [
    "neg = df[df['sentiment']!='positive'].sample(frac=1.0).drop(columns=['sentiment'])\n",
    "neg['rating'] = 0\n",
    "neg"
   ]
  },
  {
   "cell_type": "code",
   "execution_count": 25,
   "id": "active-forwarding",
   "metadata": {},
   "outputs": [
    {
     "name": "stdout",
     "output_type": "stream",
     "text": [
      "17500\n",
      "21250\n"
     ]
    }
   ],
   "source": [
    "cut_idx1 = int(round(0.7 * pos.shape[0]))\n",
    "cut_idx2 = int(round(0.85 * pos.shape[0]))\n",
    "print(cut_idx1)\n",
    "print(cut_idx2)"
   ]
  },
  {
   "cell_type": "code",
   "execution_count": 26,
   "id": "empty-bosnia",
   "metadata": {},
   "outputs": [
    {
     "data": {
      "text/plain": [
       "(35000, 2)"
      ]
     },
     "execution_count": 26,
     "metadata": {},
     "output_type": "execute_result"
    }
   ],
   "source": [
    "train = pd.concat([pos[0:cut_idx1],neg[0:cut_idx1]])\n",
    "train.shape"
   ]
  },
  {
   "cell_type": "code",
   "execution_count": 27,
   "id": "fresh-document",
   "metadata": {},
   "outputs": [
    {
     "data": {
      "text/plain": [
       "(7500, 2)"
      ]
     },
     "execution_count": 27,
     "metadata": {},
     "output_type": "execute_result"
    }
   ],
   "source": [
    "val = pd.concat([pos[cut_idx1:cut_idx2],neg[cut_idx1:cut_idx2]])\n",
    "val.shape"
   ]
  },
  {
   "cell_type": "code",
   "execution_count": 28,
   "id": "historic-windsor",
   "metadata": {},
   "outputs": [
    {
     "data": {
      "text/plain": [
       "(7500, 2)"
      ]
     },
     "execution_count": 28,
     "metadata": {},
     "output_type": "execute_result"
    }
   ],
   "source": [
    "test = pd.concat([pos[cut_idx2:],neg[cut_idx2:]])\n",
    "test.shape"
   ]
  },
  {
   "cell_type": "code",
   "execution_count": null,
   "id": "damaged-wrapping",
   "metadata": {},
   "outputs": [],
   "source": [
    "train.to_csv('../data/IMDB/train.csv',encoding='utf_8_sig',index=False)\n",
    "val.to_csv('../data/IMDB/val.csv',encoding='utf_8_sig',index=False)\n",
    "test.to_csv('../data/IMDB/test.csv',encoding='utf_8_sig',index=False)"
   ]
  },
  {
   "cell_type": "code",
   "execution_count": null,
   "id": "verified-recorder",
   "metadata": {},
   "outputs": [],
   "source": []
  },
  {
   "cell_type": "code",
   "execution_count": null,
   "id": "assumed-bridge",
   "metadata": {},
   "outputs": [],
   "source": [
    "df"
   ]
  },
  {
   "cell_type": "markdown",
   "id": "diagnostic-prisoner",
   "metadata": {},
   "source": [
    "# 分析"
   ]
  },
  {
   "cell_type": "code",
   "execution_count": 4,
   "id": "amazing-yemen",
   "metadata": {},
   "outputs": [
    {
     "data": {
      "text/html": [
       "<div>\n",
       "<style scoped>\n",
       "    .dataframe tbody tr th:only-of-type {\n",
       "        vertical-align: middle;\n",
       "    }\n",
       "\n",
       "    .dataframe tbody tr th {\n",
       "        vertical-align: top;\n",
       "    }\n",
       "\n",
       "    .dataframe thead th {\n",
       "        text-align: right;\n",
       "    }\n",
       "</style>\n",
       "<table border=\"1\" class=\"dataframe\">\n",
       "  <thead>\n",
       "    <tr style=\"text-align: right;\">\n",
       "      <th></th>\n",
       "      <th>review</th>\n",
       "      <th>rating</th>\n",
       "    </tr>\n",
       "  </thead>\n",
       "  <tbody>\n",
       "    <tr>\n",
       "      <th>0</th>\n",
       "      <td>The Hospital is a movie that was made ahead of...</td>\n",
       "      <td>1</td>\n",
       "    </tr>\n",
       "    <tr>\n",
       "      <th>1</th>\n",
       "      <td>The world of the Dragon Hunters is a 3D gravit...</td>\n",
       "      <td>1</td>\n",
       "    </tr>\n",
       "    <tr>\n",
       "      <th>2</th>\n",
       "      <td>Who wouldn't want to go on road trip with Pete...</td>\n",
       "      <td>1</td>\n",
       "    </tr>\n",
       "    <tr>\n",
       "      <th>3</th>\n",
       "      <td>-Kidnappings in Mexico are as common as honeys...</td>\n",
       "      <td>1</td>\n",
       "    </tr>\n",
       "    <tr>\n",
       "      <th>4</th>\n",
       "      <td>Cary Grant, Douglas Fairbanks Jr. and Victor M...</td>\n",
       "      <td>1</td>\n",
       "    </tr>\n",
       "    <tr>\n",
       "      <th>...</th>\n",
       "      <td>...</td>\n",
       "      <td>...</td>\n",
       "    </tr>\n",
       "    <tr>\n",
       "      <th>34995</th>\n",
       "      <td>OK - I ADORE this film...I will credit this mo...</td>\n",
       "      <td>0</td>\n",
       "    </tr>\n",
       "    <tr>\n",
       "      <th>34996</th>\n",
       "      <td>Maaan, where do i start with this god awful mo...</td>\n",
       "      <td>0</td>\n",
       "    </tr>\n",
       "    <tr>\n",
       "      <th>34997</th>\n",
       "      <td>This really is a film of two halves. The first...</td>\n",
       "      <td>0</td>\n",
       "    </tr>\n",
       "    <tr>\n",
       "      <th>34998</th>\n",
       "      <td>Its difficult to be too tough on Brad Sykes, a...</td>\n",
       "      <td>0</td>\n",
       "    </tr>\n",
       "    <tr>\n",
       "      <th>34999</th>\n",
       "      <td>Beats me how people can describe this adolesce...</td>\n",
       "      <td>0</td>\n",
       "    </tr>\n",
       "  </tbody>\n",
       "</table>\n",
       "<p>35000 rows × 2 columns</p>\n",
       "</div>"
      ],
      "text/plain": [
       "                                                  review  rating\n",
       "0      The Hospital is a movie that was made ahead of...       1\n",
       "1      The world of the Dragon Hunters is a 3D gravit...       1\n",
       "2      Who wouldn't want to go on road trip with Pete...       1\n",
       "3      -Kidnappings in Mexico are as common as honeys...       1\n",
       "4      Cary Grant, Douglas Fairbanks Jr. and Victor M...       1\n",
       "...                                                  ...     ...\n",
       "34995  OK - I ADORE this film...I will credit this mo...       0\n",
       "34996  Maaan, where do i start with this god awful mo...       0\n",
       "34997  This really is a film of two halves. The first...       0\n",
       "34998  Its difficult to be too tough on Brad Sykes, a...       0\n",
       "34999  Beats me how people can describe this adolesce...       0\n",
       "\n",
       "[35000 rows x 2 columns]"
      ]
     },
     "execution_count": 4,
     "metadata": {},
     "output_type": "execute_result"
    }
   ],
   "source": [
    "import pandas as pd\n",
    "df = pd.read_csv('../data/IMDB/train.csv')\n",
    "\n",
    "df"
   ]
  },
  {
   "cell_type": "code",
   "execution_count": 14,
   "id": "heated-amplifier",
   "metadata": {},
   "outputs": [],
   "source": [
    "from nltk import tokenize\n",
    "import re\n",
    "def getTokens(text):\n",
    "    text = re.sub(\"<br />|\\'s|\\'\", \"\", text)\n",
    "    return len(tokenize.word_tokenize(text))"
   ]
  },
  {
   "cell_type": "code",
   "execution_count": 15,
   "id": "united-olympus",
   "metadata": {},
   "outputs": [],
   "source": [
    "import os\n",
    "from tqdm.auto import tqdm\n",
    "from joblib import Parallel, delayed\n",
    "\n"
   ]
  },
  {
   "cell_type": "code",
   "execution_count": 16,
   "id": "verbal-baseball",
   "metadata": {},
   "outputs": [
    {
     "data": {
      "application/vnd.jupyter.widget-view+json": {
       "model_id": "53644a59da6b43cfbea69dcef8470797",
       "version_major": 2,
       "version_minor": 0
      },
      "text/plain": [
       "  0%|          | 0/35000 [00:00<?, ?it/s]"
      ]
     },
     "metadata": {},
     "output_type": "display_data"
    }
   ],
   "source": [
    "df['tokensNum'] = Parallel(n_jobs=os.cpu_count())(delayed(getTokens)(data) for data in tqdm(df['review']))\n"
   ]
  },
  {
   "cell_type": "code",
   "execution_count": 5,
   "id": "italian-narrow",
   "metadata": {},
   "outputs": [
    {
     "data": {
      "text/plain": [
       "0.8408857142857142"
      ]
     },
     "execution_count": 5,
     "metadata": {},
     "output_type": "execute_result"
    }
   ],
   "source": [
    "df[df['tokensNum']<400].shape[0] / df.shape[0]"
   ]
  },
  {
   "cell_type": "code",
   "execution_count": 19,
   "id": "ruled-proposal",
   "metadata": {},
   "outputs": [
    {
     "data": {
      "text/plain": [
       "0.9004571428571428"
      ]
     },
     "execution_count": 19,
     "metadata": {},
     "output_type": "execute_result"
    }
   ],
   "source": [
    "df[df['tokensNum']<500].shape[0] / df.shape[0]"
   ]
  },
  {
   "cell_type": "markdown",
   "id": "sporting-perspective",
   "metadata": {},
   "source": [
    "## check data!"
   ]
  },
  {
   "cell_type": "code",
   "execution_count": null,
   "id": "seven-mentor",
   "metadata": {},
   "outputs": [],
   "source": [
    "index = 0\n",
    "text = re.sub(\"<br />|\\'s|\\'\", \"\", df.iloc[index]['review'])\n",
    "# text = re.sub(\"\", \"\", text)\n",
    "\n",
    "text"
   ]
  },
  {
   "cell_type": "markdown",
   "id": "shared-adrian",
   "metadata": {},
   "source": [
    "# Test for T-E-GRU"
   ]
  },
  {
   "cell_type": "code",
   "execution_count": 3,
   "id": "pending-flush",
   "metadata": {},
   "outputs": [],
   "source": [
    "import gensim.downloader as api\n",
    "import gensim\n",
    "word2Vec_Model = gensim.models.KeyedVectors.load_word2vec_format( '../models/embeddings/glove-wiki-gigaword-300.gz')\n"
   ]
  },
  {
   "cell_type": "code",
   "execution_count": 9,
   "id": "floppy-blast",
   "metadata": {},
   "outputs": [
    {
     "data": {
      "text/plain": [
       "400000"
      ]
     },
     "execution_count": 9,
     "metadata": {},
     "output_type": "execute_result"
    }
   ],
   "source": [
    "len(word2Vec_Model.vocab)"
   ]
  },
  {
   "cell_type": "code",
   "execution_count": 12,
   "id": "growing-sudan",
   "metadata": {},
   "outputs": [
    {
     "data": {
      "text/plain": [
       "201534"
      ]
     },
     "execution_count": 12,
     "metadata": {},
     "output_type": "execute_result"
    }
   ],
   "source": [
    "word2Vec_Model.vocab['unk'].index\n"
   ]
  },
  {
   "cell_type": "code",
   "execution_count": 4,
   "id": "connected-darkness",
   "metadata": {},
   "outputs": [
    {
     "name": "stdout",
     "output_type": "stream",
     "text": [
      "hello\n",
      "world\n",
      "!\n"
     ]
    },
    {
     "data": {
      "text/plain": [
       "(3, 0)"
      ]
     },
     "execution_count": 4,
     "metadata": {},
     "output_type": "execute_result"
    }
   ],
   "source": [
    "from nltk import tokenize\n",
    "import re\n",
    "def getTokensDes(text):\n",
    "    text = re.sub(\"<br />|\\'s|\\'\", \"\", text)\n",
    "    outOfNum = 0\n",
    "    tokens = tokenize.word_tokenize(text)\n",
    "    for word in tokens:\n",
    "        print(word)\n",
    "        try:\n",
    "            word2Vec_Model.vocab[word].index\n",
    "        except:\n",
    "            outOfNum += 1\n",
    "    return len(tokens),outOfNum\n",
    "getTokensDes('hello world !')"
   ]
  },
  {
   "cell_type": "code",
   "execution_count": 9,
   "id": "cathedral-neighbor",
   "metadata": {},
   "outputs": [
    {
     "data": {
      "application/vnd.jupyter.widget-view+json": {
       "model_id": "2b10e11c5ead4e3fb5247143234ab43f",
       "version_major": 2,
       "version_minor": 0
      },
      "text/plain": [
       "  0%|          | 0/35000 [00:00<?, ?it/s]"
      ]
     },
     "metadata": {},
     "output_type": "display_data"
    }
   ],
   "source": [
    "import os\n",
    "from tqdm.auto import tqdm\n",
    "from joblib import Parallel, delayed\n",
    "sumOfTokens = 0\n",
    "outOfNum = 0\n",
    "for text in tqdm(df['review']):\n",
    "    text = re.sub(\"<br />|\\'s|\\'\", \"\", text)\n",
    "    tokens = tokenize.word_tokenize(text)\n",
    "    for word in tokens:\n",
    "        try:\n",
    "            word2Vec_Model.vocab[word].index\n",
    "        except:\n",
    "            outOfNum += 1\n",
    "    sumOfTokens += len(tokens) \n",
    "    \n",
    "# df[['NumOfTokens','outOfNum']] = pd.DataFrame(Parallel(n_jobs=os.cpu_count())(delayed(getTokensDes)(data) for data in tqdm(df['review'])))"
   ]
  },
  {
   "cell_type": "code",
   "execution_count": 10,
   "id": "vertical-warning",
   "metadata": {},
   "outputs": [
    {
     "data": {
      "text/plain": [
       "0.8765053249666424"
      ]
     },
     "execution_count": 10,
     "metadata": {},
     "output_type": "execute_result"
    }
   ],
   "source": [
    "1-outOfNum/sumOfTokens"
   ]
  },
  {
   "cell_type": "markdown",
   "id": "collected-daniel",
   "metadata": {},
   "source": [
    "87.7"
   ]
  },
  {
   "cell_type": "markdown",
   "id": "formed-saskatchewan",
   "metadata": {},
   "source": [
    "# Test for BERT"
   ]
  },
  {
   "cell_type": "code",
   "execution_count": 5,
   "id": "increasing-gibson",
   "metadata": {},
   "outputs": [],
   "source": [
    "from transformers import AutoTokenizer\n",
    "Pre_TrainPath = \"../models/bert-base-cased/\"\n",
    "\n",
    "tokenizer = AutoTokenizer.from_pretrained(Pre_TrainPath)"
   ]
  },
  {
   "cell_type": "code",
   "execution_count": 6,
   "id": "incomplete-queue",
   "metadata": {},
   "outputs": [
    {
     "data": {
      "text/plain": [
       "(5, 0)"
      ]
     },
     "execution_count": 6,
     "metadata": {},
     "output_type": "execute_result"
    }
   ],
   "source": [
    "import re\n",
    "def getTokenslen(text):\n",
    "    text = re.sub(\"<br />|\\'s|\\'\", \"\", text)\n",
    "    tokens = tokenizer(text, return_tensors='pt',return_length=True,return_token_type_ids=False,return_attention_mask=False)\n",
    "    return tokens['length'].item(),(tokens['input_ids']==100).sum().item()\n",
    "getTokenslen('hello world !')"
   ]
  },
  {
   "cell_type": "code",
   "execution_count": 7,
   "id": "demographic-feeling",
   "metadata": {},
   "outputs": [
    {
     "data": {
      "application/vnd.jupyter.widget-view+json": {
       "model_id": "1dfb439e87a14465bfd3057031cc2315",
       "version_major": 2,
       "version_minor": 0
      },
      "text/plain": [
       "  0%|          | 0/35000 [00:00<?, ?it/s]"
      ]
     },
     "metadata": {},
     "output_type": "display_data"
    }
   ],
   "source": [
    "from tqdm.auto import tqdm\n",
    "sumOfTokens = 0\n",
    "outOfNum = 0\n",
    "tokensLength = []\n",
    "for text in tqdm(df['review']):\n",
    "    tempLen = getTokenslen(text)\n",
    "    tokensLength.append(tempLen)\n",
    "    sumOfTokens += tempLen[0]\n",
    "    outOfNum += tempLen[1] \n"
   ]
  },
  {
   "cell_type": "code",
   "execution_count": 8,
   "id": "related-lloyd",
   "metadata": {},
   "outputs": [
    {
     "data": {
      "text/plain": [
       "0.9999992249328259"
      ]
     },
     "execution_count": 8,
     "metadata": {},
     "output_type": "execute_result"
    }
   ],
   "source": [
    "1-outOfNum/sumOfTokens"
   ]
  },
  {
   "cell_type": "code",
   "execution_count": 9,
   "id": "greenhouse-patch",
   "metadata": {},
   "outputs": [],
   "source": [
    "df[['NumOfTokens','outOfNum']] = pd.DataFrame(tokensLength)"
   ]
  },
  {
   "cell_type": "code",
   "execution_count": 10,
   "id": "flying-hebrew",
   "metadata": {},
   "outputs": [
    {
     "data": {
      "text/plain": [
       "0.8707142857142857"
      ]
     },
     "execution_count": 10,
     "metadata": {},
     "output_type": "execute_result"
    }
   ],
   "source": [
    "df[df['NumOfTokens']<510].shape[0] / df.shape[0]"
   ]
  },
  {
   "cell_type": "code",
   "execution_count": 11,
   "id": "demographic-heaven",
   "metadata": {},
   "outputs": [
    {
     "data": {
      "text/html": [
       "<div>\n",
       "<style scoped>\n",
       "    .dataframe tbody tr th:only-of-type {\n",
       "        vertical-align: middle;\n",
       "    }\n",
       "\n",
       "    .dataframe tbody tr th {\n",
       "        vertical-align: top;\n",
       "    }\n",
       "\n",
       "    .dataframe thead th {\n",
       "        text-align: right;\n",
       "    }\n",
       "</style>\n",
       "<table border=\"1\" class=\"dataframe\">\n",
       "  <thead>\n",
       "    <tr style=\"text-align: right;\">\n",
       "      <th></th>\n",
       "      <th>review</th>\n",
       "      <th>rating</th>\n",
       "      <th>NumOfTokens</th>\n",
       "      <th>outOfNum</th>\n",
       "    </tr>\n",
       "  </thead>\n",
       "  <tbody>\n",
       "    <tr>\n",
       "      <th>0</th>\n",
       "      <td>The Hospital is a movie that was made ahead of...</td>\n",
       "      <td>1</td>\n",
       "      <td>761</td>\n",
       "      <td>0</td>\n",
       "    </tr>\n",
       "    <tr>\n",
       "      <th>1</th>\n",
       "      <td>The world of the Dragon Hunters is a 3D gravit...</td>\n",
       "      <td>1</td>\n",
       "      <td>262</td>\n",
       "      <td>0</td>\n",
       "    </tr>\n",
       "    <tr>\n",
       "      <th>2</th>\n",
       "      <td>Who wouldn't want to go on road trip with Pete...</td>\n",
       "      <td>1</td>\n",
       "      <td>230</td>\n",
       "      <td>0</td>\n",
       "    </tr>\n",
       "    <tr>\n",
       "      <th>3</th>\n",
       "      <td>-Kidnappings in Mexico are as common as honeys...</td>\n",
       "      <td>1</td>\n",
       "      <td>832</td>\n",
       "      <td>0</td>\n",
       "    </tr>\n",
       "    <tr>\n",
       "      <th>4</th>\n",
       "      <td>Cary Grant, Douglas Fairbanks Jr. and Victor M...</td>\n",
       "      <td>1</td>\n",
       "      <td>123</td>\n",
       "      <td>0</td>\n",
       "    </tr>\n",
       "    <tr>\n",
       "      <th>...</th>\n",
       "      <td>...</td>\n",
       "      <td>...</td>\n",
       "      <td>...</td>\n",
       "      <td>...</td>\n",
       "    </tr>\n",
       "    <tr>\n",
       "      <th>34995</th>\n",
       "      <td>OK - I ADORE this film...I will credit this mo...</td>\n",
       "      <td>0</td>\n",
       "      <td>184</td>\n",
       "      <td>0</td>\n",
       "    </tr>\n",
       "    <tr>\n",
       "      <th>34996</th>\n",
       "      <td>Maaan, where do i start with this god awful mo...</td>\n",
       "      <td>0</td>\n",
       "      <td>184</td>\n",
       "      <td>0</td>\n",
       "    </tr>\n",
       "    <tr>\n",
       "      <th>34997</th>\n",
       "      <td>This really is a film of two halves. The first...</td>\n",
       "      <td>0</td>\n",
       "      <td>406</td>\n",
       "      <td>0</td>\n",
       "    </tr>\n",
       "    <tr>\n",
       "      <th>34998</th>\n",
       "      <td>Its difficult to be too tough on Brad Sykes, a...</td>\n",
       "      <td>0</td>\n",
       "      <td>199</td>\n",
       "      <td>0</td>\n",
       "    </tr>\n",
       "    <tr>\n",
       "      <th>34999</th>\n",
       "      <td>Beats me how people can describe this adolesce...</td>\n",
       "      <td>0</td>\n",
       "      <td>99</td>\n",
       "      <td>0</td>\n",
       "    </tr>\n",
       "  </tbody>\n",
       "</table>\n",
       "<p>35000 rows × 4 columns</p>\n",
       "</div>"
      ],
      "text/plain": [
       "                                                  review  rating  NumOfTokens  \\\n",
       "0      The Hospital is a movie that was made ahead of...       1          761   \n",
       "1      The world of the Dragon Hunters is a 3D gravit...       1          262   \n",
       "2      Who wouldn't want to go on road trip with Pete...       1          230   \n",
       "3      -Kidnappings in Mexico are as common as honeys...       1          832   \n",
       "4      Cary Grant, Douglas Fairbanks Jr. and Victor M...       1          123   \n",
       "...                                                  ...     ...          ...   \n",
       "34995  OK - I ADORE this film...I will credit this mo...       0          184   \n",
       "34996  Maaan, where do i start with this god awful mo...       0          184   \n",
       "34997  This really is a film of two halves. The first...       0          406   \n",
       "34998  Its difficult to be too tough on Brad Sykes, a...       0          199   \n",
       "34999  Beats me how people can describe this adolesce...       0           99   \n",
       "\n",
       "       outOfNum  \n",
       "0             0  \n",
       "1             0  \n",
       "2             0  \n",
       "3             0  \n",
       "4             0  \n",
       "...         ...  \n",
       "34995         0  \n",
       "34996         0  \n",
       "34997         0  \n",
       "34998         0  \n",
       "34999         0  \n",
       "\n",
       "[35000 rows x 4 columns]"
      ]
     },
     "execution_count": 11,
     "metadata": {},
     "output_type": "execute_result"
    }
   ],
   "source": [
    "df"
   ]
  },
  {
   "cell_type": "code",
   "execution_count": null,
   "id": "sound-reservoir",
   "metadata": {},
   "outputs": [],
   "source": [
    "\n",
    "def tokenize_function(examples):\n",
    "    return tokenizer(examples[\"text\"], padding=\"max_length\", truncation=True)\n",
    "\n",
    "# tokenized_datasets = dataset.map(tokenize_function, batched=True)\n"
   ]
  },
  {
   "cell_type": "code",
   "execution_count": null,
   "id": "innocent-oxide",
   "metadata": {},
   "outputs": [],
   "source": [
    "from transformers import AutoModelForSequenceClassification\n",
    "\n",
    "model = AutoModelForSequenceClassification.from_pretrained(Pre_TrainPath, num_labels=2)"
   ]
  },
  {
   "cell_type": "code",
   "execution_count": null,
   "id": "liquid-aerospace",
   "metadata": {},
   "outputs": [],
   "source": [
    "maxLength = model.bert.embeddings.position_embeddings.num_embeddings\n",
    "tokenizer = AutoTokenizer.from_pretrained(Pre_TrainPath,padding_side='left',truncation_side='left')\n",
    "encoded_input  = tokenizer(text, return_tensors='pt',max_length=maxLength,padding='max_length',truncation=True)\n",
    "encoded_input['input_ids'] .shape"
   ]
  },
  {
   "cell_type": "code",
   "execution_count": null,
   "id": "desirable-boring",
   "metadata": {},
   "outputs": [],
   "source": [
    "model(**encoded_input)"
   ]
  },
  {
   "cell_type": "code",
   "execution_count": null,
   "id": "charged-notice",
   "metadata": {},
   "outputs": [],
   "source": [
    "from transformers import TrainingArguments\n",
    "\n",
    "training_args = TrainingArguments(output_dir=\"test_trainer\")"
   ]
  },
  {
   "cell_type": "code",
   "execution_count": null,
   "id": "julian-shopping",
   "metadata": {},
   "outputs": [],
   "source": [
    "training_args"
   ]
  },
  {
   "cell_type": "code",
   "execution_count": null,
   "id": "lyric-convergence",
   "metadata": {},
   "outputs": [],
   "source": []
  }
 ],
 "metadata": {
  "kernelspec": {
   "display_name": "Python [conda env:Anaconda3-sentimentAnalysis]",
   "language": "python",
   "name": "conda-env-Anaconda3-sentimentAnalysis-py"
  },
  "language_info": {
   "codemirror_mode": {
    "name": "ipython",
    "version": 3
   },
   "file_extension": ".py",
   "mimetype": "text/x-python",
   "name": "python",
   "nbconvert_exporter": "python",
   "pygments_lexer": "ipython3",
   "version": "3.7.1"
  }
 },
 "nbformat": 4,
 "nbformat_minor": 5
}
