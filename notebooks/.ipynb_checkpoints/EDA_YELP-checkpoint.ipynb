{
 "cells": [
  {
   "cell_type": "code",
   "execution_count": 2,
   "id": "competitive-hampshire",
   "metadata": {},
   "outputs": [
    {
     "data": {
      "text/html": [
       "<div>\n",
       "<style scoped>\n",
       "    .dataframe tbody tr th:only-of-type {\n",
       "        vertical-align: middle;\n",
       "    }\n",
       "\n",
       "    .dataframe tbody tr th {\n",
       "        vertical-align: top;\n",
       "    }\n",
       "\n",
       "    .dataframe thead th {\n",
       "        text-align: right;\n",
       "    }\n",
       "</style>\n",
       "<table border=\"1\" class=\"dataframe\">\n",
       "  <thead>\n",
       "    <tr style=\"text-align: right;\">\n",
       "      <th></th>\n",
       "      <th>review</th>\n",
       "      <th>rating</th>\n",
       "    </tr>\n",
       "  </thead>\n",
       "  <tbody>\n",
       "    <tr>\n",
       "      <th>0</th>\n",
       "      <td>Unfortunately, the frustration of being Dr. Go...</td>\n",
       "      <td>0</td>\n",
       "    </tr>\n",
       "    <tr>\n",
       "      <th>1</th>\n",
       "      <td>Been going to Dr. Goldberg for over 10 years. ...</td>\n",
       "      <td>1</td>\n",
       "    </tr>\n",
       "    <tr>\n",
       "      <th>2</th>\n",
       "      <td>I don't know what Dr. Goldberg was like before...</td>\n",
       "      <td>0</td>\n",
       "    </tr>\n",
       "    <tr>\n",
       "      <th>3</th>\n",
       "      <td>I'm writing this review to give you a heads up...</td>\n",
       "      <td>0</td>\n",
       "    </tr>\n",
       "    <tr>\n",
       "      <th>4</th>\n",
       "      <td>All the food is great here. But the best thing...</td>\n",
       "      <td>1</td>\n",
       "    </tr>\n",
       "    <tr>\n",
       "      <th>...</th>\n",
       "      <td>...</td>\n",
       "      <td>...</td>\n",
       "    </tr>\n",
       "    <tr>\n",
       "      <th>559995</th>\n",
       "      <td>Ryan was as good as everyone on yelp has claim...</td>\n",
       "      <td>1</td>\n",
       "    </tr>\n",
       "    <tr>\n",
       "      <th>559996</th>\n",
       "      <td>Professional \\nFriendly\\nOn time AND affordabl...</td>\n",
       "      <td>1</td>\n",
       "    </tr>\n",
       "    <tr>\n",
       "      <th>559997</th>\n",
       "      <td>Phone calls always go to voicemail and message...</td>\n",
       "      <td>0</td>\n",
       "    </tr>\n",
       "    <tr>\n",
       "      <th>559998</th>\n",
       "      <td>Looks like all of the good reviews have gone t...</td>\n",
       "      <td>0</td>\n",
       "    </tr>\n",
       "    <tr>\n",
       "      <th>559999</th>\n",
       "      <td>Ryan Rocks! I called him this morning for some...</td>\n",
       "      <td>1</td>\n",
       "    </tr>\n",
       "  </tbody>\n",
       "</table>\n",
       "<p>560000 rows × 2 columns</p>\n",
       "</div>"
      ],
      "text/plain": [
       "                                                   review  rating\n",
       "0       Unfortunately, the frustration of being Dr. Go...       0\n",
       "1       Been going to Dr. Goldberg for over 10 years. ...       1\n",
       "2       I don't know what Dr. Goldberg was like before...       0\n",
       "3       I'm writing this review to give you a heads up...       0\n",
       "4       All the food is great here. But the best thing...       1\n",
       "...                                                   ...     ...\n",
       "559995  Ryan was as good as everyone on yelp has claim...       1\n",
       "559996  Professional \\nFriendly\\nOn time AND affordabl...       1\n",
       "559997  Phone calls always go to voicemail and message...       0\n",
       "559998  Looks like all of the good reviews have gone t...       0\n",
       "559999  Ryan Rocks! I called him this morning for some...       1\n",
       "\n",
       "[560000 rows x 2 columns]"
      ]
     },
     "execution_count": 2,
     "metadata": {},
     "output_type": "execute_result"
    }
   ],
   "source": [
    "import pandas as pd\n",
    "df = pd.read_csv('../data/yelp_review_polarity/train.csv',names=['rating','review'])\n",
    "df['rating'] = df['rating'] - 1\n",
    "df = df[['review','rating']]\n",
    "df"
   ]
  },
  {
   "cell_type": "code",
   "execution_count": 13,
   "id": "passing-migration",
   "metadata": {},
   "outputs": [
    {
     "data": {
      "text/html": [
       "<div>\n",
       "<style scoped>\n",
       "    .dataframe tbody tr th:only-of-type {\n",
       "        vertical-align: middle;\n",
       "    }\n",
       "\n",
       "    .dataframe tbody tr th {\n",
       "        vertical-align: top;\n",
       "    }\n",
       "\n",
       "    .dataframe thead th {\n",
       "        text-align: right;\n",
       "    }\n",
       "</style>\n",
       "<table border=\"1\" class=\"dataframe\">\n",
       "  <thead>\n",
       "    <tr style=\"text-align: right;\">\n",
       "      <th></th>\n",
       "      <th>review</th>\n",
       "      <th>rating</th>\n",
       "    </tr>\n",
       "  </thead>\n",
       "  <tbody>\n",
       "    <tr>\n",
       "      <th>1</th>\n",
       "      <td>Been going to Dr. Goldberg for over 10 years. ...</td>\n",
       "      <td>1</td>\n",
       "    </tr>\n",
       "    <tr>\n",
       "      <th>4</th>\n",
       "      <td>All the food is great here. But the best thing...</td>\n",
       "      <td>1</td>\n",
       "    </tr>\n",
       "    <tr>\n",
       "      <th>8</th>\n",
       "      <td>Before I finally made it over to this range I ...</td>\n",
       "      <td>1</td>\n",
       "    </tr>\n",
       "    <tr>\n",
       "      <th>9</th>\n",
       "      <td>I drove by yesterday to get a sneak peak.  It ...</td>\n",
       "      <td>1</td>\n",
       "    </tr>\n",
       "    <tr>\n",
       "      <th>11</th>\n",
       "      <td>Wonderful reuben.  Map shown on Yelp page is i...</td>\n",
       "      <td>1</td>\n",
       "    </tr>\n",
       "    <tr>\n",
       "      <th>...</th>\n",
       "      <td>...</td>\n",
       "      <td>...</td>\n",
       "    </tr>\n",
       "    <tr>\n",
       "      <th>559989</th>\n",
       "      <td>When Corey sent the email about tickets being ...</td>\n",
       "      <td>1</td>\n",
       "    </tr>\n",
       "    <tr>\n",
       "      <th>559991</th>\n",
       "      <td>We tried the Cheese Danish w lemon. Creamy, fl...</td>\n",
       "      <td>1</td>\n",
       "    </tr>\n",
       "    <tr>\n",
       "      <th>559995</th>\n",
       "      <td>Ryan was as good as everyone on yelp has claim...</td>\n",
       "      <td>1</td>\n",
       "    </tr>\n",
       "    <tr>\n",
       "      <th>559996</th>\n",
       "      <td>Professional \\nFriendly\\nOn time AND affordabl...</td>\n",
       "      <td>1</td>\n",
       "    </tr>\n",
       "    <tr>\n",
       "      <th>559999</th>\n",
       "      <td>Ryan Rocks! I called him this morning for some...</td>\n",
       "      <td>1</td>\n",
       "    </tr>\n",
       "  </tbody>\n",
       "</table>\n",
       "<p>280000 rows × 2 columns</p>\n",
       "</div>"
      ],
      "text/plain": [
       "                                                   review  rating\n",
       "1       Been going to Dr. Goldberg for over 10 years. ...       1\n",
       "4       All the food is great here. But the best thing...       1\n",
       "8       Before I finally made it over to this range I ...       1\n",
       "9       I drove by yesterday to get a sneak peak.  It ...       1\n",
       "11      Wonderful reuben.  Map shown on Yelp page is i...       1\n",
       "...                                                   ...     ...\n",
       "559989  When Corey sent the email about tickets being ...       1\n",
       "559991  We tried the Cheese Danish w lemon. Creamy, fl...       1\n",
       "559995  Ryan was as good as everyone on yelp has claim...       1\n",
       "559996  Professional \\nFriendly\\nOn time AND affordabl...       1\n",
       "559999  Ryan Rocks! I called him this morning for some...       1\n",
       "\n",
       "[280000 rows x 2 columns]"
      ]
     },
     "execution_count": 13,
     "metadata": {},
     "output_type": "execute_result"
    }
   ],
   "source": [
    "pos = df[df['rating']==1]\n",
    "pos"
   ]
  },
  {
   "cell_type": "code",
   "execution_count": 14,
   "id": "exempt-ordinance",
   "metadata": {},
   "outputs": [
    {
     "data": {
      "text/html": [
       "<div>\n",
       "<style scoped>\n",
       "    .dataframe tbody tr th:only-of-type {\n",
       "        vertical-align: middle;\n",
       "    }\n",
       "\n",
       "    .dataframe tbody tr th {\n",
       "        vertical-align: top;\n",
       "    }\n",
       "\n",
       "    .dataframe thead th {\n",
       "        text-align: right;\n",
       "    }\n",
       "</style>\n",
       "<table border=\"1\" class=\"dataframe\">\n",
       "  <thead>\n",
       "    <tr style=\"text-align: right;\">\n",
       "      <th></th>\n",
       "      <th>review</th>\n",
       "      <th>rating</th>\n",
       "    </tr>\n",
       "  </thead>\n",
       "  <tbody>\n",
       "    <tr>\n",
       "      <th>0</th>\n",
       "      <td>Unfortunately, the frustration of being Dr. Go...</td>\n",
       "      <td>0</td>\n",
       "    </tr>\n",
       "    <tr>\n",
       "      <th>2</th>\n",
       "      <td>I don't know what Dr. Goldberg was like before...</td>\n",
       "      <td>0</td>\n",
       "    </tr>\n",
       "    <tr>\n",
       "      <th>3</th>\n",
       "      <td>I'm writing this review to give you a heads up...</td>\n",
       "      <td>0</td>\n",
       "    </tr>\n",
       "    <tr>\n",
       "      <th>5</th>\n",
       "      <td>Wing sauce is like water. Pretty much a lot of...</td>\n",
       "      <td>0</td>\n",
       "    </tr>\n",
       "    <tr>\n",
       "      <th>6</th>\n",
       "      <td>Owning a driving range inside the city limits ...</td>\n",
       "      <td>0</td>\n",
       "    </tr>\n",
       "    <tr>\n",
       "      <th>...</th>\n",
       "      <td>...</td>\n",
       "      <td>...</td>\n",
       "    </tr>\n",
       "    <tr>\n",
       "      <th>559992</th>\n",
       "      <td>Long line, inefficient staff. Maybe my expecta...</td>\n",
       "      <td>0</td>\n",
       "    </tr>\n",
       "    <tr>\n",
       "      <th>559993</th>\n",
       "      <td>First: Please note that many people are review...</td>\n",
       "      <td>0</td>\n",
       "    </tr>\n",
       "    <tr>\n",
       "      <th>559994</th>\n",
       "      <td>I'm shocked everyone time I go to a Bouchon Ba...</td>\n",
       "      <td>0</td>\n",
       "    </tr>\n",
       "    <tr>\n",
       "      <th>559997</th>\n",
       "      <td>Phone calls always go to voicemail and message...</td>\n",
       "      <td>0</td>\n",
       "    </tr>\n",
       "    <tr>\n",
       "      <th>559998</th>\n",
       "      <td>Looks like all of the good reviews have gone t...</td>\n",
       "      <td>0</td>\n",
       "    </tr>\n",
       "  </tbody>\n",
       "</table>\n",
       "<p>280000 rows × 2 columns</p>\n",
       "</div>"
      ],
      "text/plain": [
       "                                                   review  rating\n",
       "0       Unfortunately, the frustration of being Dr. Go...       0\n",
       "2       I don't know what Dr. Goldberg was like before...       0\n",
       "3       I'm writing this review to give you a heads up...       0\n",
       "5       Wing sauce is like water. Pretty much a lot of...       0\n",
       "6       Owning a driving range inside the city limits ...       0\n",
       "...                                                   ...     ...\n",
       "559992  Long line, inefficient staff. Maybe my expecta...       0\n",
       "559993  First: Please note that many people are review...       0\n",
       "559994  I'm shocked everyone time I go to a Bouchon Ba...       0\n",
       "559997  Phone calls always go to voicemail and message...       0\n",
       "559998  Looks like all of the good reviews have gone t...       0\n",
       "\n",
       "[280000 rows x 2 columns]"
      ]
     },
     "execution_count": 14,
     "metadata": {},
     "output_type": "execute_result"
    }
   ],
   "source": [
    "neg = df[df['rating']!=1]\n",
    "neg"
   ]
  },
  {
   "cell_type": "code",
   "execution_count": 15,
   "id": "spatial-combat",
   "metadata": {},
   "outputs": [],
   "source": [
    "cutPoint = int(round(0.8 * pos.shape[0]))"
   ]
  },
  {
   "cell_type": "code",
   "execution_count": 16,
   "id": "smoking-render",
   "metadata": {},
   "outputs": [
    {
     "data": {
      "text/plain": [
       "(448000, 2)"
      ]
     },
     "execution_count": 16,
     "metadata": {},
     "output_type": "execute_result"
    }
   ],
   "source": [
    "train = pd.concat([pos[0:cutPoint],neg[0:cutPoint]])\n",
    "train.shape"
   ]
  },
  {
   "cell_type": "code",
   "execution_count": 17,
   "id": "indian-criticism",
   "metadata": {},
   "outputs": [
    {
     "data": {
      "text/plain": [
       "(112000, 2)"
      ]
     },
     "execution_count": 17,
     "metadata": {},
     "output_type": "execute_result"
    }
   ],
   "source": [
    "val = pd.concat([pos[cutPoint:],neg[cutPoint:]])\n",
    "val.shape"
   ]
  },
  {
   "cell_type": "code",
   "execution_count": 18,
   "id": "equal-convenience",
   "metadata": {},
   "outputs": [
    {
     "data": {
      "text/html": [
       "<div>\n",
       "<style scoped>\n",
       "    .dataframe tbody tr th:only-of-type {\n",
       "        vertical-align: middle;\n",
       "    }\n",
       "\n",
       "    .dataframe tbody tr th {\n",
       "        vertical-align: top;\n",
       "    }\n",
       "\n",
       "    .dataframe thead th {\n",
       "        text-align: right;\n",
       "    }\n",
       "</style>\n",
       "<table border=\"1\" class=\"dataframe\">\n",
       "  <thead>\n",
       "    <tr style=\"text-align: right;\">\n",
       "      <th></th>\n",
       "      <th>rating</th>\n",
       "      <th>review</th>\n",
       "    </tr>\n",
       "  </thead>\n",
       "  <tbody>\n",
       "    <tr>\n",
       "      <th>0</th>\n",
       "      <td>1</td>\n",
       "      <td>Contrary to other reviews, I have zero complai...</td>\n",
       "    </tr>\n",
       "    <tr>\n",
       "      <th>1</th>\n",
       "      <td>0</td>\n",
       "      <td>Last summer I had an appointment to get new ti...</td>\n",
       "    </tr>\n",
       "    <tr>\n",
       "      <th>2</th>\n",
       "      <td>1</td>\n",
       "      <td>Friendly staff, same starbucks fair you get an...</td>\n",
       "    </tr>\n",
       "    <tr>\n",
       "      <th>3</th>\n",
       "      <td>0</td>\n",
       "      <td>The food is good. Unfortunately the service is...</td>\n",
       "    </tr>\n",
       "    <tr>\n",
       "      <th>4</th>\n",
       "      <td>1</td>\n",
       "      <td>Even when we didn't have a car Filene's Baseme...</td>\n",
       "    </tr>\n",
       "    <tr>\n",
       "      <th>...</th>\n",
       "      <td>...</td>\n",
       "      <td>...</td>\n",
       "    </tr>\n",
       "    <tr>\n",
       "      <th>37995</th>\n",
       "      <td>0</td>\n",
       "      <td>If I could give 0...I would.  Don't do it.</td>\n",
       "    </tr>\n",
       "    <tr>\n",
       "      <th>37996</th>\n",
       "      <td>1</td>\n",
       "      <td>Items Selected:\\nChocolate Cinnamon Horn\\nSmal...</td>\n",
       "    </tr>\n",
       "    <tr>\n",
       "      <th>37997</th>\n",
       "      <td>0</td>\n",
       "      <td>Expensive lunch meals.  Fried pickles were goo...</td>\n",
       "    </tr>\n",
       "    <tr>\n",
       "      <th>37998</th>\n",
       "      <td>0</td>\n",
       "      <td>Highly overpriced and food was cold. Our waitr...</td>\n",
       "    </tr>\n",
       "    <tr>\n",
       "      <th>37999</th>\n",
       "      <td>0</td>\n",
       "      <td>I have been using this company for 11 months. ...</td>\n",
       "    </tr>\n",
       "  </tbody>\n",
       "</table>\n",
       "<p>38000 rows × 2 columns</p>\n",
       "</div>"
      ],
      "text/plain": [
       "       rating                                             review\n",
       "0           1  Contrary to other reviews, I have zero complai...\n",
       "1           0  Last summer I had an appointment to get new ti...\n",
       "2           1  Friendly staff, same starbucks fair you get an...\n",
       "3           0  The food is good. Unfortunately the service is...\n",
       "4           1  Even when we didn't have a car Filene's Baseme...\n",
       "...       ...                                                ...\n",
       "37995       0         If I could give 0...I would.  Don't do it.\n",
       "37996       1  Items Selected:\\nChocolate Cinnamon Horn\\nSmal...\n",
       "37997       0  Expensive lunch meals.  Fried pickles were goo...\n",
       "37998       0  Highly overpriced and food was cold. Our waitr...\n",
       "37999       0  I have been using this company for 11 months. ...\n",
       "\n",
       "[38000 rows x 2 columns]"
      ]
     },
     "execution_count": 18,
     "metadata": {},
     "output_type": "execute_result"
    }
   ],
   "source": [
    "test = pd.read_csv('../data/yelp_review_polarity/test.csv',names=['rating','review'])\n",
    "test['rating'] = test['rating'] - 1\n",
    "test"
   ]
  },
  {
   "cell_type": "code",
   "execution_count": 19,
   "id": "foreign-homework",
   "metadata": {},
   "outputs": [],
   "source": [
    "train.to_csv('../data/yelp_review/train.csv',encoding='utf_8_sig',index=False)\n",
    "val.to_csv('../data/yelp_review/val.csv',encoding='utf_8_sig',index=False)\n",
    "test.to_csv('../data/yelp_review/test.csv',encoding='utf_8_sig',index=False)"
   ]
  },
  {
   "cell_type": "markdown",
   "id": "automotive-hypothetical",
   "metadata": {},
   "source": [
    "# Test for T-E-GRU"
   ]
  },
  {
   "cell_type": "code",
   "execution_count": 2,
   "id": "expired-gates",
   "metadata": {},
   "outputs": [
    {
     "data": {
      "text/html": [
       "<div>\n",
       "<style scoped>\n",
       "    .dataframe tbody tr th:only-of-type {\n",
       "        vertical-align: middle;\n",
       "    }\n",
       "\n",
       "    .dataframe tbody tr th {\n",
       "        vertical-align: top;\n",
       "    }\n",
       "\n",
       "    .dataframe thead th {\n",
       "        text-align: right;\n",
       "    }\n",
       "</style>\n",
       "<table border=\"1\" class=\"dataframe\">\n",
       "  <thead>\n",
       "    <tr style=\"text-align: right;\">\n",
       "      <th></th>\n",
       "      <th>review</th>\n",
       "      <th>rating</th>\n",
       "    </tr>\n",
       "  </thead>\n",
       "  <tbody>\n",
       "    <tr>\n",
       "      <th>0</th>\n",
       "      <td>Been going to Dr. Goldberg for over 10 years. ...</td>\n",
       "      <td>1</td>\n",
       "    </tr>\n",
       "    <tr>\n",
       "      <th>1</th>\n",
       "      <td>All the food is great here. But the best thing...</td>\n",
       "      <td>1</td>\n",
       "    </tr>\n",
       "    <tr>\n",
       "      <th>2</th>\n",
       "      <td>Before I finally made it over to this range I ...</td>\n",
       "      <td>1</td>\n",
       "    </tr>\n",
       "    <tr>\n",
       "      <th>3</th>\n",
       "      <td>I drove by yesterday to get a sneak peak.  It ...</td>\n",
       "      <td>1</td>\n",
       "    </tr>\n",
       "    <tr>\n",
       "      <th>4</th>\n",
       "      <td>Wonderful reuben.  Map shown on Yelp page is i...</td>\n",
       "      <td>1</td>\n",
       "    </tr>\n",
       "    <tr>\n",
       "      <th>...</th>\n",
       "      <td>...</td>\n",
       "      <td>...</td>\n",
       "    </tr>\n",
       "    <tr>\n",
       "      <th>447995</th>\n",
       "      <td>Ew, this location was crawling with ankle bite...</td>\n",
       "      <td>0</td>\n",
       "    </tr>\n",
       "    <tr>\n",
       "      <th>447996</th>\n",
       "      <td>TIPS FOR NEXT YEAR...\\nMAKE SURE TIMES ARE COR...</td>\n",
       "      <td>0</td>\n",
       "    </tr>\n",
       "    <tr>\n",
       "      <th>447997</th>\n",
       "      <td>This used to be in Tivoli but has been moved o...</td>\n",
       "      <td>0</td>\n",
       "    </tr>\n",
       "    <tr>\n",
       "      <th>447998</th>\n",
       "      <td>This was my first time attending the festival....</td>\n",
       "      <td>0</td>\n",
       "    </tr>\n",
       "    <tr>\n",
       "      <th>447999</th>\n",
       "      <td>We adopted a 3 month old puppy from Kit Kat Re...</td>\n",
       "      <td>0</td>\n",
       "    </tr>\n",
       "  </tbody>\n",
       "</table>\n",
       "<p>448000 rows × 2 columns</p>\n",
       "</div>"
      ],
      "text/plain": [
       "                                                   review  rating\n",
       "0       Been going to Dr. Goldberg for over 10 years. ...       1\n",
       "1       All the food is great here. But the best thing...       1\n",
       "2       Before I finally made it over to this range I ...       1\n",
       "3       I drove by yesterday to get a sneak peak.  It ...       1\n",
       "4       Wonderful reuben.  Map shown on Yelp page is i...       1\n",
       "...                                                   ...     ...\n",
       "447995  Ew, this location was crawling with ankle bite...       0\n",
       "447996  TIPS FOR NEXT YEAR...\\nMAKE SURE TIMES ARE COR...       0\n",
       "447997  This used to be in Tivoli but has been moved o...       0\n",
       "447998  This was my first time attending the festival....       0\n",
       "447999  We adopted a 3 month old puppy from Kit Kat Re...       0\n",
       "\n",
       "[448000 rows x 2 columns]"
      ]
     },
     "execution_count": 2,
     "metadata": {},
     "output_type": "execute_result"
    }
   ],
   "source": [
    "import pandas as pd\n",
    "df = pd.read_csv('../data/yelp_review/train.csv')\n",
    "df\n"
   ]
  },
  {
   "cell_type": "code",
   "execution_count": null,
   "id": "contained-celtic",
   "metadata": {},
   "outputs": [],
   "source": [
    "from nltk import tokenize\n",
    "import re\n",
    "import gensim\n",
    "word2Vec_Model = gensim.models.KeyedVectors.load_word2vec_format( '../models/embeddings/glove-wiki-gigaword-300.gz')\n"
   ]
  },
  {
   "cell_type": "code",
   "execution_count": null,
   "id": "engaged-harrison",
   "metadata": {},
   "outputs": [],
   "source": [
    "import os\n",
    "from tqdm.auto import tqdm\n",
    "\n",
    "sumOfTokens = 0\n",
    "sumOutOfNum = 0\n",
    "tokensList = []\n",
    "for text in tqdm(df['review']):\n",
    "    text = re.sub(\"<br />|\\'s|\\'\", \"\", text)\n",
    "    tokens = tokenize.word_tokenize(text)\n",
    "    outOfNum = 0\n",
    "    for word in tokens:\n",
    "        try:\n",
    "            word2Vec_Model.vocab[word].index\n",
    "        except:\n",
    "            outOfNum += 1\n",
    "    sumOfTokens += len(tokens)\n",
    "    sumOutOfNum += outOfNum\n",
    "    tokensList.append((len(tokens),outOfNum))"
   ]
  },
  {
   "cell_type": "code",
   "execution_count": 6,
   "id": "talented-danish",
   "metadata": {},
   "outputs": [
    {
     "data": {
      "text/plain": [
       "0.881274175916536"
      ]
     },
     "execution_count": 6,
     "metadata": {},
     "output_type": "execute_result"
    }
   ],
   "source": [
    "1-sumOutOfNum/sumOfTokens"
   ]
  },
  {
   "cell_type": "code",
   "execution_count": 7,
   "id": "crazy-pizza",
   "metadata": {},
   "outputs": [],
   "source": [
    "df[['tokensNum','outOfNum']] = pd.DataFrame(tokensList)"
   ]
  },
  {
   "cell_type": "code",
   "execution_count": 11,
   "id": "reduced-official",
   "metadata": {},
   "outputs": [
    {
     "data": {
      "text/plain": [
       "0.9699464285714285"
      ]
     },
     "execution_count": 11,
     "metadata": {},
     "output_type": "execute_result"
    }
   ],
   "source": [
    "df[df['tokensNum']<500].shape[0] / df.shape[0]"
   ]
  },
  {
   "cell_type": "markdown",
   "id": "civic-agriculture",
   "metadata": {
    "tags": []
   },
   "source": [
    "# Test for BERT"
   ]
  },
  {
   "cell_type": "code",
   "execution_count": 6,
   "id": "c9cb43b1-b2cb-4b61-ad6f-b4fed9ee8669",
   "metadata": {},
   "outputs": [
    {
     "data": {
      "text/html": [
       "<div>\n",
       "<style scoped>\n",
       "    .dataframe tbody tr th:only-of-type {\n",
       "        vertical-align: middle;\n",
       "    }\n",
       "\n",
       "    .dataframe tbody tr th {\n",
       "        vertical-align: top;\n",
       "    }\n",
       "\n",
       "    .dataframe thead th {\n",
       "        text-align: right;\n",
       "    }\n",
       "</style>\n",
       "<table border=\"1\" class=\"dataframe\">\n",
       "  <thead>\n",
       "    <tr style=\"text-align: right;\">\n",
       "      <th></th>\n",
       "      <th>review</th>\n",
       "      <th>rating</th>\n",
       "    </tr>\n",
       "  </thead>\n",
       "  <tbody>\n",
       "    <tr>\n",
       "      <th>0</th>\n",
       "      <td>Been going to Dr. Goldberg for over 10 years. ...</td>\n",
       "      <td>1</td>\n",
       "    </tr>\n",
       "    <tr>\n",
       "      <th>1</th>\n",
       "      <td>All the food is great here. But the best thing...</td>\n",
       "      <td>1</td>\n",
       "    </tr>\n",
       "    <tr>\n",
       "      <th>2</th>\n",
       "      <td>Before I finally made it over to this range I ...</td>\n",
       "      <td>1</td>\n",
       "    </tr>\n",
       "    <tr>\n",
       "      <th>3</th>\n",
       "      <td>I drove by yesterday to get a sneak peak.  It ...</td>\n",
       "      <td>1</td>\n",
       "    </tr>\n",
       "    <tr>\n",
       "      <th>4</th>\n",
       "      <td>Wonderful reuben.  Map shown on Yelp page is i...</td>\n",
       "      <td>1</td>\n",
       "    </tr>\n",
       "    <tr>\n",
       "      <th>...</th>\n",
       "      <td>...</td>\n",
       "      <td>...</td>\n",
       "    </tr>\n",
       "    <tr>\n",
       "      <th>447995</th>\n",
       "      <td>Ew, this location was crawling with ankle bite...</td>\n",
       "      <td>0</td>\n",
       "    </tr>\n",
       "    <tr>\n",
       "      <th>447996</th>\n",
       "      <td>TIPS FOR NEXT YEAR...\\nMAKE SURE TIMES ARE COR...</td>\n",
       "      <td>0</td>\n",
       "    </tr>\n",
       "    <tr>\n",
       "      <th>447997</th>\n",
       "      <td>This used to be in Tivoli but has been moved o...</td>\n",
       "      <td>0</td>\n",
       "    </tr>\n",
       "    <tr>\n",
       "      <th>447998</th>\n",
       "      <td>This was my first time attending the festival....</td>\n",
       "      <td>0</td>\n",
       "    </tr>\n",
       "    <tr>\n",
       "      <th>447999</th>\n",
       "      <td>We adopted a 3 month old puppy from Kit Kat Re...</td>\n",
       "      <td>0</td>\n",
       "    </tr>\n",
       "  </tbody>\n",
       "</table>\n",
       "<p>448000 rows × 2 columns</p>\n",
       "</div>"
      ],
      "text/plain": [
       "                                                   review  rating\n",
       "0       Been going to Dr. Goldberg for over 10 years. ...       1\n",
       "1       All the food is great here. But the best thing...       1\n",
       "2       Before I finally made it over to this range I ...       1\n",
       "3       I drove by yesterday to get a sneak peak.  It ...       1\n",
       "4       Wonderful reuben.  Map shown on Yelp page is i...       1\n",
       "...                                                   ...     ...\n",
       "447995  Ew, this location was crawling with ankle bite...       0\n",
       "447996  TIPS FOR NEXT YEAR...\\nMAKE SURE TIMES ARE COR...       0\n",
       "447997  This used to be in Tivoli but has been moved o...       0\n",
       "447998  This was my first time attending the festival....       0\n",
       "447999  We adopted a 3 month old puppy from Kit Kat Re...       0\n",
       "\n",
       "[448000 rows x 2 columns]"
      ]
     },
     "execution_count": 6,
     "metadata": {},
     "output_type": "execute_result"
    }
   ],
   "source": [
    "df"
   ]
  },
  {
   "cell_type": "code",
   "execution_count": 7,
   "id": "inner-harrison",
   "metadata": {},
   "outputs": [],
   "source": [
    "from transformers import AutoTokenizer\n",
    "Pre_TrainPath = \"../models/bert-base-cased/\"\n",
    "\n",
    "tokenizer = AutoTokenizer.from_pretrained(Pre_TrainPath)"
   ]
  },
  {
   "cell_type": "code",
   "execution_count": 5,
   "id": "theoretical-glossary",
   "metadata": {},
   "outputs": [
    {
     "data": {
      "text/plain": [
       "(5, 0)"
      ]
     },
     "execution_count": 5,
     "metadata": {},
     "output_type": "execute_result"
    }
   ],
   "source": [
    "import re\n",
    "def getTokenslen(text):\n",
    "    text = re.sub(\"<br />|\\'s|\\'\", \"\", text)\n",
    "    tokens = tokenizer(text, return_tensors='pt',return_length=True,return_token_type_ids=False,return_attention_mask=False)\n",
    "    return tokens['length'].item(),(tokens['input_ids']==100).sum().item()\n",
    "getTokenslen('hello world !')"
   ]
  },
  {
   "cell_type": "code",
   "execution_count": 40,
   "id": "economic-private",
   "metadata": {},
   "outputs": [
    {
     "data": {
      "application/vnd.jupyter.widget-view+json": {
       "model_id": "390a1cd613424ed2b0fc7739b165fc5b",
       "version_major": 2,
       "version_minor": 0
      },
      "text/plain": [
       "  0%|          | 0/448000 [00:00<?, ?it/s]"
      ]
     },
     "metadata": {},
     "output_type": "display_data"
    }
   ],
   "source": [
    "from tqdm.auto import tqdm\n",
    "sumOfTokens = 0\n",
    "outOfNum = 0\n",
    "tokensLength = []\n",
    "for text in tqdm(df['review']):\n",
    "    tempLen = getTokenslen(text)\n",
    "    tokensLength.append(tempLen)\n",
    "    sumOfTokens += tempLen[0]\n",
    "    outOfNum += tempLen[1] "
   ]
  },
  {
   "cell_type": "code",
   "execution_count": 41,
   "id": "dirty-fabric",
   "metadata": {},
   "outputs": [
    {
     "data": {
      "text/plain": [
       "0.9999998347026975"
      ]
     },
     "execution_count": 41,
     "metadata": {},
     "output_type": "execute_result"
    }
   ],
   "source": [
    "1-outOfNum/sumOfTokens"
   ]
  },
  {
   "cell_type": "code",
   "execution_count": 42,
   "id": "enhanced-cable",
   "metadata": {},
   "outputs": [],
   "source": [
    "df[['NumOfTokens','outOfNum']] = pd.DataFrame(tokensLength)"
   ]
  },
  {
   "cell_type": "code",
   "execution_count": 45,
   "id": "equivalent-uzbekistan",
   "metadata": {},
   "outputs": [
    {
     "data": {
      "text/plain": [
       "0.9656785714285714"
      ]
     },
     "execution_count": 45,
     "metadata": {},
     "output_type": "execute_result"
    }
   ],
   "source": [
    "df[df['NumOfTokens']<510].shape[0] / df.shape[0]"
   ]
  },
  {
   "cell_type": "code",
   "execution_count": 13,
   "id": "5e76bb02-4b9d-4666-a843-fbd49085f244",
   "metadata": {},
   "outputs": [],
   "source": [
    "import pandas as pd\n",
    "import re\n",
    "df = pd.read_csv('../data/yelp_review/test.csv')"
   ]
  },
  {
   "cell_type": "code",
   "execution_count": 14,
   "id": "emerging-product",
   "metadata": {},
   "outputs": [],
   "source": [
    "def cleanText(text):\n",
    "    text = re.sub(\"<br />|\\'s|\\'\", \"\", text)\n",
    "    return text\n",
    "data = df\n",
    "data['review'] = data['review'].map(cleanText)\n",
    "labels = data['rating'].tolist()\n",
    "tokens = tokenizer(data['review'].tolist(), return_tensors='pt', max_length=510, padding='max_length',truncation=True)\n",
    "data_db = [(tokens['input_ids'][i], tokens['token_type_ids'][i], tokens['attention_mask'][i], labels[i]) for i in range(len(labels))]"
   ]
  },
  {
   "cell_type": "code",
   "execution_count": 17,
   "id": "59b66a17-1ef9-4c02-9948-4fbf9cf60272",
   "metadata": {},
   "outputs": [
    {
     "data": {
      "text/plain": [
       "510"
      ]
     },
     "execution_count": 17,
     "metadata": {},
     "output_type": "execute_result"
    }
   ],
   "source": [
    "len(tokens[1])"
   ]
  },
  {
   "cell_type": "code",
   "execution_count": 16,
   "id": "7eb8e004-c89a-43df-ae4f-352b66bac6b3",
   "metadata": {},
   "outputs": [
    {
     "data": {
      "text/plain": [
       "38000"
      ]
     },
     "execution_count": 16,
     "metadata": {},
     "output_type": "execute_result"
    }
   ],
   "source": [
    "len(data['review'].tolist())"
   ]
  },
  {
   "cell_type": "code",
   "execution_count": null,
   "id": "86297c61-b1b4-45df-a8d0-7315e0309f7a",
   "metadata": {},
   "outputs": [],
   "source": []
  }
 ],
 "metadata": {
  "kernelspec": {
   "display_name": "Python [conda env:sentimentAnalysis]",
   "language": "python",
   "name": "conda-env-sentimentAnalysis-py"
  },
  "language_info": {
   "codemirror_mode": {
    "name": "ipython",
    "version": 3
   },
   "file_extension": ".py",
   "mimetype": "text/x-python",
   "name": "python",
   "nbconvert_exporter": "python",
   "pygments_lexer": "ipython3",
   "version": "3.7.1"
  }
 },
 "nbformat": 4,
 "nbformat_minor": 5
}
