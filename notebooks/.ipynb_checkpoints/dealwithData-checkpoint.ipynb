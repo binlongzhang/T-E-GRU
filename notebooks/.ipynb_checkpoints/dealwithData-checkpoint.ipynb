{
 "cells": [
  {
   "cell_type": "code",
   "execution_count": 1,
   "id": "growing-being",
   "metadata": {},
   "outputs": [],
   "source": [
    "%matplotlib inline\n",
    "import numpy as np\n",
    "import matplotlib.pyplot as plt\n",
    "import re\n",
    "import jieba # 结巴分词\n",
    "# gensim用来加载预训练word vector\n",
    "from gensim.models import KeyedVectors\n",
    "import warnings\n",
    "warnings.filterwarnings(\"ignore\")\n",
    "import pandas as pd\n",
    "path = '../data/'"
   ]
  },
  {
   "cell_type": "code",
   "execution_count": 2,
   "id": "uniform-member",
   "metadata": {},
   "outputs": [],
   "source": [
    "ratings = pd.read_csv(path + 'ratings.csv')\n"
   ]
  },
  {
   "cell_type": "code",
   "execution_count": 3,
   "id": "universal-income",
   "metadata": {},
   "outputs": [
    {
     "name": "stdout",
     "output_type": "stream",
     "text": [
      "正向（5星）数目：638106\n",
      "负向（1星）数目：190927\n",
      "负向（2星）数目：179678\n"
     ]
    }
   ],
   "source": [
    "ratings_with_opinions = ratings[(ratings.rating==1) | (ratings.rating==5) |(ratings.rating==2)]\n",
    "\n",
    "\n",
    "print('正向（5星）数目：%d' % (ratings_with_opinions[ratings_with_opinions.rating==5].shape[0]))\n",
    "print('负向（1星）数目：%d' % (ratings_with_opinions[ratings_with_opinions.rating==1].shape[0]))\n",
    "print('负向（2星）数目：%d' % (ratings_with_opinions[ratings_with_opinions.rating==2].shape[0]))\n"
   ]
  },
  {
   "cell_type": "code",
   "execution_count": 3,
   "id": "premium-raising",
   "metadata": {},
   "outputs": [
    {
     "name": "stdout",
     "output_type": "stream",
     "text": [
      "积极数据保存成功\n"
     ]
    }
   ],
   "source": [
    "ratings[(ratings.rating==5)].\\\n",
    "    sample(300000)[['comment','rating']].to_csv('../data/posData.csv',encoding='utf_8_sig')\n",
    "print('积极数据保存成功')"
   ]
  },
  {
   "cell_type": "code",
   "execution_count": 4,
   "id": "hindu-figure",
   "metadata": {},
   "outputs": [
    {
     "name": "stdout",
     "output_type": "stream",
     "text": [
      "消极数据保存成功\n"
     ]
    }
   ],
   "source": [
    "ratings[(ratings.rating==1) | (ratings.rating==2)].\\\n",
    "    sample(300000)[['comment','rating']].to_csv('../data/negData.csv',encoding='utf_8_sig')\n",
    "print('消极数据保存成功')"
   ]
  },
  {
   "cell_type": "code",
   "execution_count": 2,
   "id": "helpful-firmware",
   "metadata": {},
   "outputs": [],
   "source": [
    "# 使用gensim加载预训练中文分词embedding, 有可能需要等待1-2分钟\n",
    "cn_model = KeyedVectors.load_word2vec_format('../models/embeddings/sgns.zhihu.bigram', \n",
    "                                             binary=False, unicode_errors=\"ignore\")\n",
    "import pandas as pd\n",
    "path = '../data/'\n",
    "pos = pd.read_csv(path + 'posData.csv')\n",
    "neg = pd.read_csv(path + 'negData.csv')\n",
    "pos = pos['comment'].tolist()\n",
    "neg = neg['comment'].tolist()"
   ]
  },
  {
   "cell_type": "code",
   "execution_count": 5,
   "id": "hydraulic-eagle",
   "metadata": {},
   "outputs": [
    {
     "name": "stderr",
     "output_type": "stream",
     "text": [
      "Building prefix dict from the default dictionary ...\n",
      "Loading model from cache C:\\Users\\ADMINI~1\\AppData\\Local\\Temp\\jieba.cache\n",
      "Loading model cost 0.836 seconds.\n",
      "Prefix dict has been built successfully.\n"
     ]
    }
   ],
   "source": [
    "train_tokens = []\n",
    "train_target = []\n",
    "word_index = []\n",
    "for text in pos:\n",
    "    text = re.sub(\"[\\s+\\.\\!\\/_,$%^*(+\\\"\\']+|[+——！，。？、~@#￥%……&*（）]+\", \"\",text)\n",
    "    cut = jieba.cut(text)\n",
    "    \n",
    "    cut_list = [i for i in cut]\n",
    "    for i,word in enumerate(cut_list):\n",
    "        try:\n",
    "            cut_list[i] = cn_model.vocab[word].index\n",
    "            word_index.append(cut_list[i])\n",
    "        except:\n",
    "            cut_list[i] = 0\n",
    "    train_tokens.append(cut_list)\n",
    "    train_target.append(1)\n",
    "for text in neg:\n",
    "    text = re.sub(\"[\\s+\\.\\!\\/_,$%^*(+\\\"\\']+|[+——！，。？、~@#￥%……&*（）]+\", \"\",text)\n",
    "    cut = jieba.cut(text)\n",
    "    \n",
    "    cut_list = [i for i in cut]\n",
    "    for i,word in enumerate(cut_list):\n",
    "        try:\n",
    "            cut_list[i] = cn_model.vocab[word].index\n",
    "            word_index.append(cut_list[i])\n",
    "        except:\n",
    "            cut_list[i] = 0\n",
    "    train_tokens.append(cut_list)\n",
    "    train_target.append(0)"
   ]
  },
  {
   "cell_type": "code",
   "execution_count": 11,
   "id": "fabulous-honolulu",
   "metadata": {},
   "outputs": [
    {
     "data": {
      "text/plain": [
       "600000"
      ]
     },
     "execution_count": 11,
     "metadata": {},
     "output_type": "execute_result"
    }
   ],
   "source": [
    "len(train_tokens)"
   ]
  },
  {
   "cell_type": "code",
   "execution_count": 13,
   "id": "governing-central",
   "metadata": {},
   "outputs": [
    {
     "data": {
      "text/plain": [
       "18.75613"
      ]
     },
     "execution_count": 13,
     "metadata": {},
     "output_type": "execute_result"
    }
   ],
   "source": [
    "num_tokens = [ len(tokens) for tokens in train_tokens ]\n",
    "num_tokens = np.array(num_tokens)\n",
    "np.mean(num_tokens)"
   ]
  },
  {
   "cell_type": "code",
   "execution_count": 14,
   "id": "modified-lotus",
   "metadata": {},
   "outputs": [
    {
     "data": {
      "text/plain": [
       "140"
      ]
     },
     "execution_count": 14,
     "metadata": {},
     "output_type": "execute_result"
    }
   ],
   "source": [
    "np.max(num_tokens)"
   ]
  },
  {
   "cell_type": "code",
   "execution_count": 15,
   "id": "coastal-version",
   "metadata": {},
   "outputs": [
    {
     "data": {
      "image/png": "[encoded data removed]",
      "text/plain": [
       "<Figure size 432x288 with 1 Axes>"
      ]
     },
     "metadata": {
      "needs_background": "light"
     },
     "output_type": "display_data"
    }
   ],
   "source": [
    "# 绘制tokens长度图\n",
    "plt.hist(num_tokens)\n",
    "plt.ylabel('number of tokens')\n",
    "plt.xlabel('length of tokens')\n",
    "plt.title('Distribution of tokens length')\n",
    "plt.show()"
   ]
  },
  {
   "cell_type": "code",
   "execution_count": 10,
   "id": "hawaiian-aging",
   "metadata": {},
   "outputs": [
    {
     "data": {
      "text/plain": [
       "1         734704\n",
       "3         293141\n",
       "6         186915\n",
       "4         182217\n",
       "52        138450\n",
       "           ...  \n",
       "150740         1\n",
       "213214         1\n",
       "27795          1\n",
       "112446         1\n",
       "189160         1\n",
       "Length: 77591, dtype: int64"
      ]
     },
     "execution_count": 10,
     "metadata": {},
     "output_type": "execute_result"
    }
   ],
   "source": [
    "import pandas as pd\n",
    "result = pd.value_counts(word_index)"
   ]
  },
  {
   "cell_type": "code",
   "execution_count": 40,
   "id": "endless-confidentiality",
   "metadata": {},
   "outputs": [
    {
     "data": {
      "text/plain": [
       "10577544"
      ]
     },
     "execution_count": 40,
     "metadata": {},
     "output_type": "execute_result"
    }
   ],
   "source": [
    "len(word_index)"
   ]
  },
  {
   "cell_type": "code",
   "execution_count": 47,
   "id": "trained-trainer",
   "metadata": {},
   "outputs": [
    {
     "data": {
      "text/plain": [
       "0.932156273705881"
      ]
     },
     "execution_count": 47,
     "metadata": {},
     "output_type": "execute_result"
    }
   ],
   "source": [
    "result[result>100].sum()/len(word_index)"
   ]
  },
  {
   "cell_type": "code",
   "execution_count": 46,
   "id": "honest-brush",
   "metadata": {},
   "outputs": [
    {
     "data": {
      "text/plain": [
       "252348"
      ]
     },
     "execution_count": 46,
     "metadata": {},
     "output_type": "execute_result"
    }
   ],
   "source": [
    "a=result[result>100]\n",
    "a.index.max()"
   ]
  },
  {
   "cell_type": "markdown",
   "id": "smart-louisville",
   "metadata": {},
   "source": [
    "# train-30w/30w test 5w/5w\n"
   ]
  },
  {
   "cell_type": "code",
   "execution_count": 16,
   "id": "cooperative-palestine",
   "metadata": {},
   "outputs": [],
   "source": [
    "%matplotlib inline\n",
    "import numpy as np\n",
    "import matplotlib.pyplot as plt\n",
    "import re\n",
    "import jieba # 结巴分词\n",
    "import warnings\n",
    "warnings.filterwarnings(\"ignore\")\n"
   ]
  },
  {
   "cell_type": "code",
   "execution_count": 17,
   "id": "previous-passenger",
   "metadata": {},
   "outputs": [],
   "source": [
    "import pandas as pd\n",
    "path = '../data/'\n",
    "ratings = pd.read_csv(path + 'ratings.csv')"
   ]
  },
  {
   "cell_type": "code",
   "execution_count": 51,
   "id": "atomic-smith",
   "metadata": {},
   "outputs": [],
   "source": [
    "posdata = ratings[(ratings.rating==5)].sample(350000)[['comment','rating']]\n",
    "posdata['rating'] = 1\n",
    "# posdata[:300000].to_csv('../data/trainPosData.csv',encoding='utf_8_sig')\n",
    "# print('30w训练积极数据保存成功')\n",
    "# posdata[300000:].to_csv('../data/testPosData.csv',encoding='utf_8_sig')\n",
    "# print('5w训练积极数据保存成功')"
   ]
  },
  {
   "cell_type": "code",
   "execution_count": 52,
   "id": "enclosed-jason",
   "metadata": {},
   "outputs": [],
   "source": [
    "negdata = ratings[(ratings.rating==1) | (ratings.rating==2)].sample(350000)[['comment','rating']]\n",
    "negdata['rating'] = 0\n",
    "# negdata[:300000].to_csv('../data/trainNegData.csv',encoding='utf_8_sig')\n",
    "# print('30w训练消极数据保存成功')\n",
    "# negdata[300000:].to_csv('../data/testNegData.csv',encoding='utf_8_sig')\n",
    "# print('5w训练消极数据保存成功')"
   ]
  },
  {
   "cell_type": "code",
   "execution_count": 53,
   "id": "agreed-columbus",
   "metadata": {},
   "outputs": [],
   "source": [
    "train = pd.concat([posdata[:300000],negdata[:300000]]).reset_index(drop=True)\n",
    "test = pd.concat([posdata[300000:],negdata[300000:]]).reset_index(drop=True)"
   ]
  },
  {
   "cell_type": "code",
   "execution_count": 55,
   "id": "freelance-paint",
   "metadata": {},
   "outputs": [],
   "source": [
    "train.to_csv('../data/trainData_60w.csv',encoding='utf_8_sig',index=False)\n",
    "test.to_csv('../data/testData_10w.csv',encoding='utf_8_sig',index=False)"
   ]
  },
  {
   "cell_type": "code",
   "execution_count": 56,
   "id": "clinical-disco",
   "metadata": {},
   "outputs": [
    {
     "data": {
      "text/html": [
       "<div>\n",
       "<style scoped>\n",
       "    .dataframe tbody tr th:only-of-type {\n",
       "        vertical-align: middle;\n",
       "    }\n",
       "\n",
       "    .dataframe tbody tr th {\n",
       "        vertical-align: top;\n",
       "    }\n",
       "\n",
       "    .dataframe thead th {\n",
       "        text-align: right;\n",
       "    }\n",
       "</style>\n",
       "<table border=\"1\" class=\"dataframe\">\n",
       "  <thead>\n",
       "    <tr style=\"text-align: right;\">\n",
       "      <th></th>\n",
       "      <th>comment</th>\n",
       "      <th>rating</th>\n",
       "    </tr>\n",
       "  </thead>\n",
       "  <tbody>\n",
       "    <tr>\n",
       "      <th>0</th>\n",
       "      <td>超高级炒冷饭！看的实在爽！</td>\n",
       "      <td>1</td>\n",
       "    </tr>\n",
       "    <tr>\n",
       "      <th>1</th>\n",
       "      <td>Fred I liked you. I still miss those days and...</td>\n",
       "      <td>1</td>\n",
       "    </tr>\n",
       "    <tr>\n",
       "      <th>2</th>\n",
       "      <td>树懒那段真心搞笑。。</td>\n",
       "      <td>1</td>\n",
       "    </tr>\n",
       "    <tr>\n",
       "      <th>3</th>\n",
       "      <td>受不了这种纯情片</td>\n",
       "      <td>1</td>\n",
       "    </tr>\n",
       "    <tr>\n",
       "      <th>4</th>\n",
       "      <td>誰だ？大事な人、忘れちゃだめな人、忘れたくなかった人。誰だ、誰だ、誰だ。</td>\n",
       "      <td>1</td>\n",
       "    </tr>\n",
       "    <tr>\n",
       "      <th>...</th>\n",
       "      <td>...</td>\n",
       "      <td>...</td>\n",
       "    </tr>\n",
       "    <tr>\n",
       "      <th>599995</th>\n",
       "      <td>低俗</td>\n",
       "      <td>0</td>\n",
       "    </tr>\n",
       "    <tr>\n",
       "      <th>599996</th>\n",
       "      <td>睡着三次</td>\n",
       "      <td>0</td>\n",
       "    </tr>\n",
       "    <tr>\n",
       "      <th>599997</th>\n",
       "      <td>张导真是不行了！这种片子您真的不适合，还是去专心拍点文艺片好了！不要再糊弄观众和赚商业票房了！</td>\n",
       "      <td>0</td>\n",
       "    </tr>\n",
       "    <tr>\n",
       "      <th>599998</th>\n",
       "      <td>有人注意到，复活后的鲲没有小JJ么？</td>\n",
       "      <td>0</td>\n",
       "    </tr>\n",
       "    <tr>\n",
       "      <th>599999</th>\n",
       "      <td>真心不觉得好看……</td>\n",
       "      <td>0</td>\n",
       "    </tr>\n",
       "  </tbody>\n",
       "</table>\n",
       "<p>600000 rows × 2 columns</p>\n",
       "</div>"
      ],
      "text/plain": [
       "                                                  comment  rating\n",
       "0                                           超高级炒冷饭！看的实在爽！       1\n",
       "1        Fred I liked you. I still miss those days and...       1\n",
       "2                                              树懒那段真心搞笑。。       1\n",
       "3                                                受不了这种纯情片       1\n",
       "4                    誰だ？大事な人、忘れちゃだめな人、忘れたくなかった人。誰だ、誰だ、誰だ。       1\n",
       "...                                                   ...     ...\n",
       "599995                                                 低俗       0\n",
       "599996                                               睡着三次       0\n",
       "599997    张导真是不行了！这种片子您真的不适合，还是去专心拍点文艺片好了！不要再糊弄观众和赚商业票房了！       0\n",
       "599998                                 有人注意到，复活后的鲲没有小JJ么？       0\n",
       "599999                                          真心不觉得好看……       0\n",
       "\n",
       "[600000 rows x 2 columns]"
      ]
     },
     "execution_count": 56,
     "metadata": {},
     "output_type": "execute_result"
    }
   ],
   "source": [
    "train"
   ]
  },
  {
   "cell_type": "markdown",
   "id": "mediterranean-phenomenon",
   "metadata": {},
   "source": [
    "# 将训练集数据划分为训练集和验证集"
   ]
  },
  {
   "cell_type": "code",
   "execution_count": 19,
   "id": "million-battlefield",
   "metadata": {},
   "outputs": [],
   "source": [
    "data = pd.read_csv(path + 'trainData_60w.csv')\n",
    "data = data.sample(frac=1.0)"
   ]
  },
  {
   "cell_type": "code",
   "execution_count": 20,
   "id": "roman-garbage",
   "metadata": {},
   "outputs": [
    {
     "data": {
      "text/html": [
       "<div>\n",
       "<style scoped>\n",
       "    .dataframe tbody tr th:only-of-type {\n",
       "        vertical-align: middle;\n",
       "    }\n",
       "\n",
       "    .dataframe tbody tr th {\n",
       "        vertical-align: top;\n",
       "    }\n",
       "\n",
       "    .dataframe thead th {\n",
       "        text-align: right;\n",
       "    }\n",
       "</style>\n",
       "<table border=\"1\" class=\"dataframe\">\n",
       "  <thead>\n",
       "    <tr style=\"text-align: right;\">\n",
       "      <th></th>\n",
       "      <th>comment</th>\n",
       "      <th>rating</th>\n",
       "    </tr>\n",
       "  </thead>\n",
       "  <tbody>\n",
       "    <tr>\n",
       "      <th>2014</th>\n",
       "      <td>这部片子在电影院看了一遍，然后又自己看了两遍，说不出的感觉，觉得浩瀚和自己很像</td>\n",
       "      <td>1</td>\n",
       "    </tr>\n",
       "    <tr>\n",
       "      <th>528329</th>\n",
       "      <td>总觉得是为了公路片而公路片，为了讲故事而讲故事。太空洞。</td>\n",
       "      <td>0</td>\n",
       "    </tr>\n",
       "    <tr>\n",
       "      <th>547826</th>\n",
       "      <td>太多槽点～对男主的描写太少完全不知道在说啥～真不知道为什么评分会这么高。</td>\n",
       "      <td>0</td>\n",
       "    </tr>\n",
       "    <tr>\n",
       "      <th>339648</th>\n",
       "      <td>有没有负分啊……</td>\n",
       "      <td>0</td>\n",
       "    </tr>\n",
       "    <tr>\n",
       "      <th>278774</th>\n",
       "      <td>看的特过瘾，爆笑场面不断！多英雄就是好玩，大片就是这样才好看嘛~~</td>\n",
       "      <td>1</td>\n",
       "    </tr>\n",
       "    <tr>\n",
       "      <th>...</th>\n",
       "      <td>...</td>\n",
       "      <td>...</td>\n",
       "    </tr>\n",
       "    <tr>\n",
       "      <th>509302</th>\n",
       "      <td>故事有些碎~</td>\n",
       "      <td>0</td>\n",
       "    </tr>\n",
       "    <tr>\n",
       "      <th>209607</th>\n",
       "      <td>不太喜欢王宝强是真的，不过很搞，下回坐电梯要注意了</td>\n",
       "      <td>1</td>\n",
       "    </tr>\n",
       "    <tr>\n",
       "      <th>122889</th>\n",
       "      <td>电影整体有一点平，节奏略慢一点！但是感觉不错，段子很好，典型的韩式幽默，还有可爱的阿拉斯加...</td>\n",
       "      <td>1</td>\n",
       "    </tr>\n",
       "    <tr>\n",
       "      <th>481259</th>\n",
       "      <td>这两分是给美术和特效组的。其它真的可以说一无是处。男女主角令人尴尬，尤其是男主傻白甜的设置...</td>\n",
       "      <td>0</td>\n",
       "    </tr>\n",
       "    <tr>\n",
       "      <th>481971</th>\n",
       "      <td>全片不知道在演什么，炫富吧，脑残导演</td>\n",
       "      <td>0</td>\n",
       "    </tr>\n",
       "  </tbody>\n",
       "</table>\n",
       "<p>600000 rows × 2 columns</p>\n",
       "</div>"
      ],
      "text/plain": [
       "                                                  comment  rating\n",
       "2014              这部片子在电影院看了一遍，然后又自己看了两遍，说不出的感觉，觉得浩瀚和自己很像       1\n",
       "528329                       总觉得是为了公路片而公路片，为了讲故事而讲故事。太空洞。       0\n",
       "547826               太多槽点～对男主的描写太少完全不知道在说啥～真不知道为什么评分会这么高。       0\n",
       "339648                                           有没有负分啊……       0\n",
       "278774                  看的特过瘾，爆笑场面不断！多英雄就是好玩，大片就是这样才好看嘛~~       1\n",
       "...                                                   ...     ...\n",
       "509302                                             故事有些碎~       0\n",
       "209607                          不太喜欢王宝强是真的，不过很搞，下回坐电梯要注意了       1\n",
       "122889   电影整体有一点平，节奏略慢一点！但是感觉不错，段子很好，典型的韩式幽默，还有可爱的阿拉斯加...       1\n",
       "481259   这两分是给美术和特效组的。其它真的可以说一无是处。男女主角令人尴尬，尤其是男主傻白甜的设置...       0\n",
       "481971                                 全片不知道在演什么，炫富吧，脑残导演       0\n",
       "\n",
       "[600000 rows x 2 columns]"
      ]
     },
     "execution_count": 20,
     "metadata": {},
     "output_type": "execute_result"
    }
   ],
   "source": [
    "data"
   ]
  },
  {
   "cell_type": "code",
   "execution_count": 23,
   "id": "improved-projector",
   "metadata": {},
   "outputs": [],
   "source": [
    "cut_idx = int(round(0.2 * data.shape[0]))\n",
    "val, train = data.iloc[:cut_idx], data.iloc[cut_idx:]"
   ]
  },
  {
   "cell_type": "code",
   "execution_count": 24,
   "id": "tired-communication",
   "metadata": {},
   "outputs": [
    {
     "data": {
      "text/plain": [
       "59681"
      ]
     },
     "execution_count": 24,
     "metadata": {},
     "output_type": "execute_result"
    }
   ],
   "source": [
    "val.iloc[:,1].sum()"
   ]
  },
  {
   "cell_type": "code",
   "execution_count": 26,
   "id": "turned-matrix",
   "metadata": {},
   "outputs": [],
   "source": [
    "train.to_csv('../data/train.csv',encoding='utf_8_sig',index=False)\n",
    "val.to_csv('../data/val.csv',encoding='utf_8_sig',index=False)"
   ]
  },
  {
   "cell_type": "markdown",
   "id": "neutral-oxide",
   "metadata": {},
   "source": [
    "# 数据查看-点评"
   ]
  },
  {
   "cell_type": "code",
   "execution_count": 1,
   "id": "therapeutic-lithuania",
   "metadata": {},
   "outputs": [],
   "source": [
    "%matplotlib inline\n",
    "import numpy as np\n",
    "import matplotlib.pyplot as plt\n",
    "import re\n",
    "import jieba # 结巴分词\n",
    "# gensim用来加载预训练word vector\n",
    "from gensim.models import KeyedVectors\n",
    "import warnings\n",
    "warnings.filterwarnings(\"ignore\")\n",
    "import pandas as pd\n",
    "path = '../data/'\n",
    "# 使用gensim加载预训练中文分词embedding, 有可能需要等待1-2分钟\n",
    "cn_model = KeyedVectors.load_word2vec_format('../models/embeddings/sgns.zhihu.bigram', \n",
    "                                             binary=False, unicode_errors=\"ignore\")"
   ]
  },
  {
   "cell_type": "code",
   "execution_count": 2,
   "id": "destroyed-press",
   "metadata": {},
   "outputs": [],
   "source": [
    "data = pd.read_csv(path + '/dianping/train.csv').to_numpy()"
   ]
  },
  {
   "cell_type": "code",
   "execution_count": 3,
   "id": "laughing-franklin",
   "metadata": {},
   "outputs": [
    {
     "name": "stderr",
     "output_type": "stream",
     "text": [
      "Building prefix dict from the default dictionary ...\n",
      "Dumping model to file cache C:\\Users\\ADMINI~1\\AppData\\Local\\Temp\\jieba.cache\n",
      "Loading model cost 1.159 seconds.\n",
      "Prefix dict has been built successfully.\n"
     ]
    }
   ],
   "source": [
    "train_tokens = []\n",
    "train_target = []\n",
    "word_index = []\n",
    "for text,label in data:\n",
    "    text = re.sub(\"[\\s+\\/_$%^*(+\\\"\\']+|[+——？、~@#￥%……&*（）=]+\", \"\", text)\n",
    "    cut = jieba.cut(text)\n",
    "    \n",
    "    cut_list = [i for i in cut]\n",
    "    for i,word in enumerate(cut_list):\n",
    "        try:\n",
    "            cut_list[i] = cn_model.vocab[word].index\n",
    "            word_index.append(cut_list[i])\n",
    "        except:\n",
    "            cut_list[i] = 0\n",
    "            word_index.append(cut_list[i])\n",
    "    train_tokens.append(cut_list)\n",
    "    train_target.append(label)"
   ]
  },
  {
   "cell_type": "code",
   "execution_count": 4,
   "id": "better-maker",
   "metadata": {},
   "outputs": [
    {
     "name": "stdout",
     "output_type": "stream",
     "text": [
      "0.8600893804919584\n"
     ]
    }
   ],
   "source": [
    "wordMaxIndex = 150000\n",
    "wordRight = 0\n",
    "for i in word_index:\n",
    "    if( (i<wordMaxIndex) & (i!=0)):\n",
    "        wordRight = wordRight+1\n",
    "print(wordRight/len(word_index))"
   ]
  },
  {
   "cell_type": "code",
   "execution_count": 5,
   "id": "italic-eligibility",
   "metadata": {},
   "outputs": [
    {
     "name": "stdout",
     "output_type": "stream",
     "text": [
      "0.8650410804143264\n"
     ]
    }
   ],
   "source": [
    "wordMaxIndex = 260000\n",
    "wordRight = 0\n",
    "for i in word_index:\n",
    "    if( (i<wordMaxIndex) & (i!=0)):\n",
    "        wordRight = wordRight+1\n",
    "print(wordRight/len(word_index))"
   ]
  },
  {
   "cell_type": "code",
   "execution_count": 107,
   "id": "jewish-benjamin",
   "metadata": {},
   "outputs": [
    {
     "data": {
      "text/plain": [
       "128000"
      ]
     },
     "execution_count": 107,
     "metadata": {},
     "output_type": "execute_result"
    }
   ],
   "source": [
    "len(train_tokens)"
   ]
  },
  {
   "cell_type": "code",
   "execution_count": 108,
   "id": "tender-fountain",
   "metadata": {},
   "outputs": [
    {
     "data": {
      "text/plain": [
       "116.4246640625"
      ]
     },
     "execution_count": 108,
     "metadata": {},
     "output_type": "execute_result"
    }
   ],
   "source": [
    "num_tokens = [ len(tokens) for tokens in train_tokens ]\n",
    "num_tokens = np.array(num_tokens)\n",
    "np.mean(num_tokens)"
   ]
  },
  {
   "cell_type": "code",
   "execution_count": 109,
   "id": "alternative-offering",
   "metadata": {},
   "outputs": [
    {
     "data": {
      "text/plain": [
       "1386"
      ]
     },
     "execution_count": 109,
     "metadata": {},
     "output_type": "execute_result"
    }
   ],
   "source": [
    "np.max(num_tokens)"
   ]
  },
  {
   "cell_type": "code",
   "execution_count": 110,
   "id": "romance-dollar",
   "metadata": {},
   "outputs": [
    {
     "data": {
      "image/png": "[encoded data removed]",
      "text/plain": [
       "<Figure size 432x288 with 1 Axes>"
      ]
     },
     "metadata": {
      "needs_background": "light"
     },
     "output_type": "display_data"
    }
   ],
   "source": [
    "# 绘制tokens长度图\n",
    "plt.hist(num_tokens)\n",
    "plt.ylabel('number of tokens')\n",
    "plt.xlabel('length of tokens')\n",
    "plt.title('Distribution of tokens length')\n",
    "plt.show()"
   ]
  },
  {
   "cell_type": "code",
   "execution_count": 111,
   "id": "dependent-cache",
   "metadata": {},
   "outputs": [
    {
     "data": {
      "text/plain": [
       "0.961875"
      ]
     },
     "execution_count": 111,
     "metadata": {},
     "output_type": "execute_result"
    }
   ],
   "source": [
    "((num_tokens<400).sum())/len(num_tokens)"
   ]
  },
  {
   "cell_type": "code",
   "execution_count": 76,
   "id": "affecting-frontier",
   "metadata": {},
   "outputs": [
    {
     "data": {
      "text/plain": [
       "0.861953125"
      ]
     },
     "execution_count": 76,
     "metadata": {},
     "output_type": "execute_result"
    }
   ],
   "source": [
    "((num_tokens<200).sum())/len(num_tokens)"
   ]
  },
  {
   "cell_type": "markdown",
   "id": "obvious-physiology",
   "metadata": {},
   "source": [
    "# 数据查看 购物"
   ]
  },
  {
   "cell_type": "code",
   "execution_count": 6,
   "id": "reserved-religious",
   "metadata": {},
   "outputs": [],
   "source": [
    "data = pd.read_csv(path + '/shopping/train.csv').to_numpy()\n",
    "train_tokens = []\n",
    "train_target = []\n",
    "word_index = []\n",
    "for text,label in data:\n",
    "    text = re.sub(\"[\\s+\\.\\!\\/_,$%^*(+\\\"\\']+|[+——！，。？、~@#￥%……&*（）]+\", \"\",text)\n",
    "    cut = jieba.cut(text)\n",
    "    \n",
    "    cut_list = [i for i in cut]\n",
    "    for i,word in enumerate(cut_list):\n",
    "        try:\n",
    "            cut_list[i] = cn_model.vocab[word].index\n",
    "            word_index.append(cut_list[i])\n",
    "        except:\n",
    "            cut_list[i] = 0\n",
    "            word_index.append(cut_list[i])\n",
    "    train_tokens.append(cut_list)\n",
    "    train_target.append(label)"
   ]
  },
  {
   "cell_type": "code",
   "execution_count": 7,
   "id": "framed-strain",
   "metadata": {},
   "outputs": [
    {
     "data": {
      "text/plain": [
       "37664"
      ]
     },
     "execution_count": 7,
     "metadata": {},
     "output_type": "execute_result"
    }
   ],
   "source": [
    "len(train_tokens)"
   ]
  },
  {
   "cell_type": "code",
   "execution_count": 8,
   "id": "saving-glory",
   "metadata": {},
   "outputs": [
    {
     "data": {
      "text/plain": [
       "30.847387425658454"
      ]
     },
     "execution_count": 8,
     "metadata": {},
     "output_type": "execute_result"
    }
   ],
   "source": [
    "num_tokens = [ len(tokens) for tokens in train_tokens ]\n",
    "num_tokens = np.array(num_tokens)\n",
    "np.mean(num_tokens)"
   ]
  },
  {
   "cell_type": "code",
   "execution_count": 9,
   "id": "desperate-drama",
   "metadata": {},
   "outputs": [
    {
     "data": {
      "text/plain": [
       "1506"
      ]
     },
     "execution_count": 9,
     "metadata": {},
     "output_type": "execute_result"
    }
   ],
   "source": [
    "np.max(num_tokens)"
   ]
  },
  {
   "cell_type": "code",
   "execution_count": 10,
   "id": "bizarre-facility",
   "metadata": {},
   "outputs": [
    {
     "data": {
      "image/png": "[encoded data removed]",
      "text/plain": [
       "<Figure size 432x288 with 1 Axes>"
      ]
     },
     "metadata": {
      "needs_background": "light"
     },
     "output_type": "display_data"
    }
   ],
   "source": [
    "# 绘制tokens长度图\n",
    "import matplotlib.pyplot as plt\n",
    "plt.hist(num_tokens)\n",
    "plt.ylabel('number of tokens')\n",
    "plt.xlabel('length of tokens')\n",
    "plt.title('Distribution of tokens length')\n",
    "plt.show()"
   ]
  },
  {
   "cell_type": "code",
   "execution_count": 11,
   "id": "defensive-television",
   "metadata": {},
   "outputs": [
    {
     "data": {
      "text/plain": [
       "0.9902559473237044"
      ]
     },
     "execution_count": 11,
     "metadata": {},
     "output_type": "execute_result"
    }
   ],
   "source": [
    "((num_tokens<200).sum())/len(num_tokens)"
   ]
  },
  {
   "cell_type": "code",
   "execution_count": 12,
   "id": "distinguished-textbook",
   "metadata": {},
   "outputs": [
    {
     "name": "stdout",
     "output_type": "stream",
     "text": [
      "0.948972144089183\n"
     ]
    }
   ],
   "source": [
    "wordMaxIndex = 200000\n",
    "wordRight = 0\n",
    "for i in word_index:\n",
    "    if( (i<wordMaxIndex) & (i!=0)):\n",
    "        wordRight = wordRight+1\n",
    "print(wordRight/len(word_index))\n"
   ]
  },
  {
   "cell_type": "code",
   "execution_count": 13,
   "id": "blind-motel",
   "metadata": {},
   "outputs": [
    {
     "name": "stdout",
     "output_type": "stream",
     "text": [
      "0.9505541229571127\n"
     ]
    }
   ],
   "source": [
    "wordMaxIndex = 260000\n",
    "wordRight = 0\n",
    "for i in word_index:\n",
    "    if( (i<wordMaxIndex) & (i!=0)):\n",
    "        wordRight = wordRight+1\n",
    "print(wordRight/len(word_index))"
   ]
  },
  {
   "cell_type": "markdown",
   "id": "threatened-interpretation",
   "metadata": {},
   "source": [
    "# 豆瓣数据-分析"
   ]
  },
  {
   "cell_type": "code",
   "execution_count": 14,
   "id": "muslim-receiver",
   "metadata": {},
   "outputs": [],
   "source": [
    "data = pd.read_csv(path + '/douban/train.csv').to_numpy()\n",
    "train_tokens = []\n",
    "train_target = []\n",
    "word_index = []\n",
    "for text,label in data:\n",
    "    text = re.sub(\"[\\s+\\.\\!\\/_,$%^*(+\\\"\\']+|[+——！，。？、~@#￥%……&*（）]+\", \"\",text)\n",
    "    cut = jieba.cut(text)\n",
    "    \n",
    "    cut_list = [i for i in cut]\n",
    "    for i,word in enumerate(cut_list):\n",
    "        try:\n",
    "            cut_list[i] = cn_model.vocab[word].index\n",
    "            word_index.append(cut_list[i])\n",
    "        except:\n",
    "            cut_list[i] = 0\n",
    "            word_index.append(cut_list[i])\n",
    "    train_tokens.append(cut_list)\n",
    "    train_target.append(label)"
   ]
  },
  {
   "cell_type": "code",
   "execution_count": 15,
   "id": "ordinary-connecticut",
   "metadata": {},
   "outputs": [
    {
     "name": "stdout",
     "output_type": "stream",
     "text": [
      "0.9398432771972839\n"
     ]
    }
   ],
   "source": [
    "wordMaxIndex = 260000\n",
    "wordRight = 0\n",
    "for i in word_index:\n",
    "    if( (i<wordMaxIndex) & (i!=0)):\n",
    "        wordRight = wordRight+1\n",
    "print(wordRight/len(word_index))"
   ]
  },
  {
   "cell_type": "code",
   "execution_count": 16,
   "id": "direct-finland",
   "metadata": {},
   "outputs": [
    {
     "name": "stdout",
     "output_type": "stream",
     "text": [
      "0.9386155889768203\n"
     ]
    }
   ],
   "source": [
    "wordMaxIndex = 200000\n",
    "wordRight = 0\n",
    "for i in word_index:\n",
    "    if( (i<wordMaxIndex) & (i!=0)):\n",
    "        wordRight = wordRight+1\n",
    "print(wordRight/len(word_index))\n"
   ]
  },
  {
   "cell_type": "code",
   "execution_count": 17,
   "id": "taken-revelation",
   "metadata": {},
   "outputs": [
    {
     "data": {
      "text/plain": [
       "18.77173125"
      ]
     },
     "execution_count": 17,
     "metadata": {},
     "output_type": "execute_result"
    }
   ],
   "source": [
    "num_tokens = [ len(tokens) for tokens in train_tokens ]\n",
    "num_tokens = np.array(num_tokens)\n",
    "np.mean(num_tokens)"
   ]
  },
  {
   "cell_type": "code",
   "execution_count": 18,
   "id": "known-equipment",
   "metadata": {},
   "outputs": [
    {
     "data": {
      "image/png": "[encoded data removed]",
      "text/plain": [
       "<Figure size 432x288 with 1 Axes>"
      ]
     },
     "metadata": {
      "needs_background": "light"
     },
     "output_type": "display_data"
    }
   ],
   "source": [
    "# 绘制tokens长度图\n",
    "plt.hist(num_tokens)\n",
    "plt.ylabel('number of tokens')\n",
    "plt.xlabel('length of tokens')\n",
    "plt.title('Distribution of tokens length')\n",
    "plt.show()"
   ]
  },
  {
   "cell_type": "code",
   "execution_count": 19,
   "id": "enhanced-asian",
   "metadata": {},
   "outputs": [
    {
     "data": {
      "text/plain": [
       "0.9999833333333333"
      ]
     },
     "execution_count": 19,
     "metadata": {},
     "output_type": "execute_result"
    }
   ],
   "source": [
    "((num_tokens<100).sum())/len(num_tokens)"
   ]
  },
  {
   "cell_type": "code",
   "execution_count": null,
   "id": "interior-darkness",
   "metadata": {},
   "outputs": [],
   "source": []
  }
 ],
 "metadata": {
  "kernelspec": {
   "display_name": "Python [conda env:sentimentAnalysis]",
   "language": "python",
   "name": "conda-env-sentimentAnalysis-py"
  },
  "language_info": {
   "codemirror_mode": {
    "name": "ipython",
    "version": 3
   },
   "file_extension": ".py",
   "mimetype": "text/x-python",
   "name": "python",
   "nbconvert_exporter": "python",
   "pygments_lexer": "ipython3",
   "version": "3.7.1"
  }
 },
 "nbformat": 4,
 "nbformat_minor": 5
}
